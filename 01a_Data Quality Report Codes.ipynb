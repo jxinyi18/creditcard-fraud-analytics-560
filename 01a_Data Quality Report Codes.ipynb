{
  "nbformat": 4,
  "nbformat_minor": 0,
  "metadata": {
    "colab": {
      "provenance": [],
      "toc_visible": true
    },
    "kernelspec": {
      "name": "python3",
      "display_name": "Python 3"
    },
    "language_info": {
      "name": "python"
    }
  },
  "cells": [
    {
      "cell_type": "code",
      "execution_count": null,
      "metadata": {
        "colab": {
          "base_uri": "https://localhost:8080/",
          "height": 74
        },
        "id": "qZyOkfP9GjOV",
        "outputId": "39676a4d-4200-43cb-88c7-94ac88a2eafc"
      },
      "outputs": [
        {
          "output_type": "display_data",
          "data": {
            "text/plain": [
              "<IPython.core.display.HTML object>"
            ],
            "text/html": [
              "\n",
              "     <input type=\"file\" id=\"files-c63a8ec2-e190-4b33-a6df-e1e0c54071e7\" name=\"files[]\" multiple disabled\n",
              "        style=\"border:none\" />\n",
              "     <output id=\"result-c63a8ec2-e190-4b33-a6df-e1e0c54071e7\">\n",
              "      Upload widget is only available when the cell has been executed in the\n",
              "      current browser session. Please rerun this cell to enable.\n",
              "      </output>\n",
              "      <script>// Copyright 2017 Google LLC\n",
              "//\n",
              "// Licensed under the Apache License, Version 2.0 (the \"License\");\n",
              "// you may not use this file except in compliance with the License.\n",
              "// You may obtain a copy of the License at\n",
              "//\n",
              "//      http://www.apache.org/licenses/LICENSE-2.0\n",
              "//\n",
              "// Unless required by applicable law or agreed to in writing, software\n",
              "// distributed under the License is distributed on an \"AS IS\" BASIS,\n",
              "// WITHOUT WARRANTIES OR CONDITIONS OF ANY KIND, either express or implied.\n",
              "// See the License for the specific language governing permissions and\n",
              "// limitations under the License.\n",
              "\n",
              "/**\n",
              " * @fileoverview Helpers for google.colab Python module.\n",
              " */\n",
              "(function(scope) {\n",
              "function span(text, styleAttributes = {}) {\n",
              "  const element = document.createElement('span');\n",
              "  element.textContent = text;\n",
              "  for (const key of Object.keys(styleAttributes)) {\n",
              "    element.style[key] = styleAttributes[key];\n",
              "  }\n",
              "  return element;\n",
              "}\n",
              "\n",
              "// Max number of bytes which will be uploaded at a time.\n",
              "const MAX_PAYLOAD_SIZE = 100 * 1024;\n",
              "\n",
              "function _uploadFiles(inputId, outputId) {\n",
              "  const steps = uploadFilesStep(inputId, outputId);\n",
              "  const outputElement = document.getElementById(outputId);\n",
              "  // Cache steps on the outputElement to make it available for the next call\n",
              "  // to uploadFilesContinue from Python.\n",
              "  outputElement.steps = steps;\n",
              "\n",
              "  return _uploadFilesContinue(outputId);\n",
              "}\n",
              "\n",
              "// This is roughly an async generator (not supported in the browser yet),\n",
              "// where there are multiple asynchronous steps and the Python side is going\n",
              "// to poll for completion of each step.\n",
              "// This uses a Promise to block the python side on completion of each step,\n",
              "// then passes the result of the previous step as the input to the next step.\n",
              "function _uploadFilesContinue(outputId) {\n",
              "  const outputElement = document.getElementById(outputId);\n",
              "  const steps = outputElement.steps;\n",
              "\n",
              "  const next = steps.next(outputElement.lastPromiseValue);\n",
              "  return Promise.resolve(next.value.promise).then((value) => {\n",
              "    // Cache the last promise value to make it available to the next\n",
              "    // step of the generator.\n",
              "    outputElement.lastPromiseValue = value;\n",
              "    return next.value.response;\n",
              "  });\n",
              "}\n",
              "\n",
              "/**\n",
              " * Generator function which is called between each async step of the upload\n",
              " * process.\n",
              " * @param {string} inputId Element ID of the input file picker element.\n",
              " * @param {string} outputId Element ID of the output display.\n",
              " * @return {!Iterable<!Object>} Iterable of next steps.\n",
              " */\n",
              "function* uploadFilesStep(inputId, outputId) {\n",
              "  const inputElement = document.getElementById(inputId);\n",
              "  inputElement.disabled = false;\n",
              "\n",
              "  const outputElement = document.getElementById(outputId);\n",
              "  outputElement.innerHTML = '';\n",
              "\n",
              "  const pickedPromise = new Promise((resolve) => {\n",
              "    inputElement.addEventListener('change', (e) => {\n",
              "      resolve(e.target.files);\n",
              "    });\n",
              "  });\n",
              "\n",
              "  const cancel = document.createElement('button');\n",
              "  inputElement.parentElement.appendChild(cancel);\n",
              "  cancel.textContent = 'Cancel upload';\n",
              "  const cancelPromise = new Promise((resolve) => {\n",
              "    cancel.onclick = () => {\n",
              "      resolve(null);\n",
              "    };\n",
              "  });\n",
              "\n",
              "  // Wait for the user to pick the files.\n",
              "  const files = yield {\n",
              "    promise: Promise.race([pickedPromise, cancelPromise]),\n",
              "    response: {\n",
              "      action: 'starting',\n",
              "    }\n",
              "  };\n",
              "\n",
              "  cancel.remove();\n",
              "\n",
              "  // Disable the input element since further picks are not allowed.\n",
              "  inputElement.disabled = true;\n",
              "\n",
              "  if (!files) {\n",
              "    return {\n",
              "      response: {\n",
              "        action: 'complete',\n",
              "      }\n",
              "    };\n",
              "  }\n",
              "\n",
              "  for (const file of files) {\n",
              "    const li = document.createElement('li');\n",
              "    li.append(span(file.name, {fontWeight: 'bold'}));\n",
              "    li.append(span(\n",
              "        `(${file.type || 'n/a'}) - ${file.size} bytes, ` +\n",
              "        `last modified: ${\n",
              "            file.lastModifiedDate ? file.lastModifiedDate.toLocaleDateString() :\n",
              "                                    'n/a'} - `));\n",
              "    const percent = span('0% done');\n",
              "    li.appendChild(percent);\n",
              "\n",
              "    outputElement.appendChild(li);\n",
              "\n",
              "    const fileDataPromise = new Promise((resolve) => {\n",
              "      const reader = new FileReader();\n",
              "      reader.onload = (e) => {\n",
              "        resolve(e.target.result);\n",
              "      };\n",
              "      reader.readAsArrayBuffer(file);\n",
              "    });\n",
              "    // Wait for the data to be ready.\n",
              "    let fileData = yield {\n",
              "      promise: fileDataPromise,\n",
              "      response: {\n",
              "        action: 'continue',\n",
              "      }\n",
              "    };\n",
              "\n",
              "    // Use a chunked sending to avoid message size limits. See b/62115660.\n",
              "    let position = 0;\n",
              "    do {\n",
              "      const length = Math.min(fileData.byteLength - position, MAX_PAYLOAD_SIZE);\n",
              "      const chunk = new Uint8Array(fileData, position, length);\n",
              "      position += length;\n",
              "\n",
              "      const base64 = btoa(String.fromCharCode.apply(null, chunk));\n",
              "      yield {\n",
              "        response: {\n",
              "          action: 'append',\n",
              "          file: file.name,\n",
              "          data: base64,\n",
              "        },\n",
              "      };\n",
              "\n",
              "      let percentDone = fileData.byteLength === 0 ?\n",
              "          100 :\n",
              "          Math.round((position / fileData.byteLength) * 100);\n",
              "      percent.textContent = `${percentDone}% done`;\n",
              "\n",
              "    } while (position < fileData.byteLength);\n",
              "  }\n",
              "\n",
              "  // All done.\n",
              "  yield {\n",
              "    response: {\n",
              "      action: 'complete',\n",
              "    }\n",
              "  };\n",
              "}\n",
              "\n",
              "scope.google = scope.google || {};\n",
              "scope.google.colab = scope.google.colab || {};\n",
              "scope.google.colab._files = {\n",
              "  _uploadFiles,\n",
              "  _uploadFilesContinue,\n",
              "};\n",
              "})(self);\n",
              "</script> "
            ]
          },
          "metadata": {}
        },
        {
          "output_type": "stream",
          "name": "stdout",
          "text": [
            "Saving applications data.csv to applications data.csv\n"
          ]
        }
      ],
      "source": [
        "from google.colab import files\n",
        "files.upload()"
      ]
    },
    {
      "cell_type": "code",
      "source": [
        "import pandas as pd\n",
        "import scipy.stats\n",
        "import numpy as np\n",
        "import datetime as dt\n",
        "import seaborn as sns\n",
        "import matplotlib.pyplot as plt\n",
        "%matplotlib inline\n",
        "start_time = dt.datetime.now()\n",
        "scipen = 999"
      ],
      "metadata": {
        "id": "4q7_BftiN5E1"
      },
      "execution_count": null,
      "outputs": []
    },
    {
      "cell_type": "code",
      "source": [
        "data = pd.read_csv(\"applications data.csv\")"
      ],
      "metadata": {
        "id": "MlLnrd93LiX_"
      },
      "execution_count": null,
      "outputs": []
    },
    {
      "cell_type": "code",
      "source": [
        "def mem_usage(pandas_obj):\n",
        "    if isinstance(pandas_obj,pd.DataFrame):\n",
        "        usage_b = pandas_obj.memory_usage(deep=True).sum()\n",
        "    else: # we assume if not a df it's a series\n",
        "        usage_b = pandas_obj.memory_usage(deep=True)\n",
        "    usage_mb = usage_b / 1024 ** 2 # convert bytes to megabytes\n",
        "    return \"{:03.2f} MB\".format(usage_mb)"
      ],
      "metadata": {
        "id": "UlqAHf-1NqqC"
      },
      "execution_count": null,
      "outputs": []
    },
    {
      "cell_type": "code",
      "source": [
        "type(data)"
      ],
      "metadata": {
        "colab": {
          "base_uri": "https://localhost:8080/"
        },
        "id": "SeJvaRNvN1e9",
        "outputId": "59727272-7fe8-4888-bb96-b10e4ded88b6"
      },
      "execution_count": null,
      "outputs": [
        {
          "output_type": "execute_result",
          "data": {
            "text/plain": [
              "pandas.core.frame.DataFrame"
            ]
          },
          "metadata": {},
          "execution_count": 63
        }
      ]
    },
    {
      "cell_type": "code",
      "source": [
        "# Exploring the shape of the data\n",
        "data.shape"
      ],
      "metadata": {
        "colab": {
          "base_uri": "https://localhost:8080/"
        },
        "id": "fPLIFIYQOUm7",
        "outputId": "7f1fffb2-d0cd-43e7-f220-dd96e43d1dca"
      },
      "execution_count": null,
      "outputs": [
        {
          "output_type": "execute_result",
          "data": {
            "text/plain": [
              "(1000000, 10)"
            ]
          },
          "metadata": {},
          "execution_count": 64
        }
      ]
    },
    {
      "cell_type": "code",
      "source": [
        "data.describe(include='all')"
      ],
      "metadata": {
        "colab": {
          "base_uri": "https://localhost:8080/",
          "height": 476
        },
        "id": "nmT0zVGXOXjf",
        "outputId": "0806e198-648d-4c47-c79e-fdb13a64da56"
      },
      "execution_count": null,
      "outputs": [
        {
          "output_type": "execute_result",
          "data": {
            "text/plain": [
              "                record          date           ssn firstname lastname  \\\n",
              "count   1000000.000000  1.000000e+06  1.000000e+06   1000000  1000000   \n",
              "unique             NaN           NaN           NaN     78136   177001   \n",
              "top                NaN           NaN           NaN  EAMSTRMT  ERJSAXA   \n",
              "freq               NaN           NaN           NaN     12658     8580   \n",
              "mean     500000.500000  2.017067e+07  5.083415e+08       NaN      NaN   \n",
              "std      288675.278932  3.449869e+02  2.934864e+08       NaN      NaN   \n",
              "min           1.000000  2.017010e+07  3.600000e+01       NaN      NaN   \n",
              "25%      250000.750000  2.017040e+07  2.542176e+08       NaN      NaN   \n",
              "50%      500000.500000  2.017070e+07  5.088144e+08       NaN      NaN   \n",
              "75%      750000.250000  2.017100e+07  7.630924e+08       NaN      NaN   \n",
              "max     1000000.000000  2.017123e+07  1.000000e+09       NaN      NaN   \n",
              "\n",
              "            address            zip5           dob     homephone  \\\n",
              "count       1000000  1000000.000000  1.000000e+06  1.000000e+06   \n",
              "unique       828774             NaN           NaN           NaN   \n",
              "top     123 MAIN ST             NaN           NaN           NaN   \n",
              "freq           1079             NaN           NaN           NaN   \n",
              "mean            NaN    50073.333143  1.951725e+07  5.368716e+09   \n",
              "std             NaN    28915.921546  3.568872e+05  3.082161e+09   \n",
              "min             NaN        2.000000  1.900010e+07  5.937990e+05   \n",
              "25%             NaN    24992.000000  1.916092e+07  2.677134e+09   \n",
              "50%             NaN    50492.000000  1.950090e+07  5.399910e+09   \n",
              "75%             NaN    74496.000000  1.983032e+07  8.109241e+09   \n",
              "max             NaN    99999.000000  2.016103e+07  1.000000e+10   \n",
              "\n",
              "           fraud_label  \n",
              "count   1000000.000000  \n",
              "unique             NaN  \n",
              "top                NaN  \n",
              "freq               NaN  \n",
              "mean          0.014393  \n",
              "std           0.119104  \n",
              "min           0.000000  \n",
              "25%           0.000000  \n",
              "50%           0.000000  \n",
              "75%           0.000000  \n",
              "max           1.000000  "
            ],
            "text/html": [
              "\n",
              "  <div id=\"df-c3ea5ed2-bcf1-480b-a5c5-85cebe34e3dc\">\n",
              "    <div class=\"colab-df-container\">\n",
              "      <div>\n",
              "<style scoped>\n",
              "    .dataframe tbody tr th:only-of-type {\n",
              "        vertical-align: middle;\n",
              "    }\n",
              "\n",
              "    .dataframe tbody tr th {\n",
              "        vertical-align: top;\n",
              "    }\n",
              "\n",
              "    .dataframe thead th {\n",
              "        text-align: right;\n",
              "    }\n",
              "</style>\n",
              "<table border=\"1\" class=\"dataframe\">\n",
              "  <thead>\n",
              "    <tr style=\"text-align: right;\">\n",
              "      <th></th>\n",
              "      <th>record</th>\n",
              "      <th>date</th>\n",
              "      <th>ssn</th>\n",
              "      <th>firstname</th>\n",
              "      <th>lastname</th>\n",
              "      <th>address</th>\n",
              "      <th>zip5</th>\n",
              "      <th>dob</th>\n",
              "      <th>homephone</th>\n",
              "      <th>fraud_label</th>\n",
              "    </tr>\n",
              "  </thead>\n",
              "  <tbody>\n",
              "    <tr>\n",
              "      <th>count</th>\n",
              "      <td>1000000.000000</td>\n",
              "      <td>1.000000e+06</td>\n",
              "      <td>1.000000e+06</td>\n",
              "      <td>1000000</td>\n",
              "      <td>1000000</td>\n",
              "      <td>1000000</td>\n",
              "      <td>1000000.000000</td>\n",
              "      <td>1.000000e+06</td>\n",
              "      <td>1.000000e+06</td>\n",
              "      <td>1000000.000000</td>\n",
              "    </tr>\n",
              "    <tr>\n",
              "      <th>unique</th>\n",
              "      <td>NaN</td>\n",
              "      <td>NaN</td>\n",
              "      <td>NaN</td>\n",
              "      <td>78136</td>\n",
              "      <td>177001</td>\n",
              "      <td>828774</td>\n",
              "      <td>NaN</td>\n",
              "      <td>NaN</td>\n",
              "      <td>NaN</td>\n",
              "      <td>NaN</td>\n",
              "    </tr>\n",
              "    <tr>\n",
              "      <th>top</th>\n",
              "      <td>NaN</td>\n",
              "      <td>NaN</td>\n",
              "      <td>NaN</td>\n",
              "      <td>EAMSTRMT</td>\n",
              "      <td>ERJSAXA</td>\n",
              "      <td>123 MAIN ST</td>\n",
              "      <td>NaN</td>\n",
              "      <td>NaN</td>\n",
              "      <td>NaN</td>\n",
              "      <td>NaN</td>\n",
              "    </tr>\n",
              "    <tr>\n",
              "      <th>freq</th>\n",
              "      <td>NaN</td>\n",
              "      <td>NaN</td>\n",
              "      <td>NaN</td>\n",
              "      <td>12658</td>\n",
              "      <td>8580</td>\n",
              "      <td>1079</td>\n",
              "      <td>NaN</td>\n",
              "      <td>NaN</td>\n",
              "      <td>NaN</td>\n",
              "      <td>NaN</td>\n",
              "    </tr>\n",
              "    <tr>\n",
              "      <th>mean</th>\n",
              "      <td>500000.500000</td>\n",
              "      <td>2.017067e+07</td>\n",
              "      <td>5.083415e+08</td>\n",
              "      <td>NaN</td>\n",
              "      <td>NaN</td>\n",
              "      <td>NaN</td>\n",
              "      <td>50073.333143</td>\n",
              "      <td>1.951725e+07</td>\n",
              "      <td>5.368716e+09</td>\n",
              "      <td>0.014393</td>\n",
              "    </tr>\n",
              "    <tr>\n",
              "      <th>std</th>\n",
              "      <td>288675.278932</td>\n",
              "      <td>3.449869e+02</td>\n",
              "      <td>2.934864e+08</td>\n",
              "      <td>NaN</td>\n",
              "      <td>NaN</td>\n",
              "      <td>NaN</td>\n",
              "      <td>28915.921546</td>\n",
              "      <td>3.568872e+05</td>\n",
              "      <td>3.082161e+09</td>\n",
              "      <td>0.119104</td>\n",
              "    </tr>\n",
              "    <tr>\n",
              "      <th>min</th>\n",
              "      <td>1.000000</td>\n",
              "      <td>2.017010e+07</td>\n",
              "      <td>3.600000e+01</td>\n",
              "      <td>NaN</td>\n",
              "      <td>NaN</td>\n",
              "      <td>NaN</td>\n",
              "      <td>2.000000</td>\n",
              "      <td>1.900010e+07</td>\n",
              "      <td>5.937990e+05</td>\n",
              "      <td>0.000000</td>\n",
              "    </tr>\n",
              "    <tr>\n",
              "      <th>25%</th>\n",
              "      <td>250000.750000</td>\n",
              "      <td>2.017040e+07</td>\n",
              "      <td>2.542176e+08</td>\n",
              "      <td>NaN</td>\n",
              "      <td>NaN</td>\n",
              "      <td>NaN</td>\n",
              "      <td>24992.000000</td>\n",
              "      <td>1.916092e+07</td>\n",
              "      <td>2.677134e+09</td>\n",
              "      <td>0.000000</td>\n",
              "    </tr>\n",
              "    <tr>\n",
              "      <th>50%</th>\n",
              "      <td>500000.500000</td>\n",
              "      <td>2.017070e+07</td>\n",
              "      <td>5.088144e+08</td>\n",
              "      <td>NaN</td>\n",
              "      <td>NaN</td>\n",
              "      <td>NaN</td>\n",
              "      <td>50492.000000</td>\n",
              "      <td>1.950090e+07</td>\n",
              "      <td>5.399910e+09</td>\n",
              "      <td>0.000000</td>\n",
              "    </tr>\n",
              "    <tr>\n",
              "      <th>75%</th>\n",
              "      <td>750000.250000</td>\n",
              "      <td>2.017100e+07</td>\n",
              "      <td>7.630924e+08</td>\n",
              "      <td>NaN</td>\n",
              "      <td>NaN</td>\n",
              "      <td>NaN</td>\n",
              "      <td>74496.000000</td>\n",
              "      <td>1.983032e+07</td>\n",
              "      <td>8.109241e+09</td>\n",
              "      <td>0.000000</td>\n",
              "    </tr>\n",
              "    <tr>\n",
              "      <th>max</th>\n",
              "      <td>1000000.000000</td>\n",
              "      <td>2.017123e+07</td>\n",
              "      <td>1.000000e+09</td>\n",
              "      <td>NaN</td>\n",
              "      <td>NaN</td>\n",
              "      <td>NaN</td>\n",
              "      <td>99999.000000</td>\n",
              "      <td>2.016103e+07</td>\n",
              "      <td>1.000000e+10</td>\n",
              "      <td>1.000000</td>\n",
              "    </tr>\n",
              "  </tbody>\n",
              "</table>\n",
              "</div>\n",
              "      <button class=\"colab-df-convert\" onclick=\"convertToInteractive('df-c3ea5ed2-bcf1-480b-a5c5-85cebe34e3dc')\"\n",
              "              title=\"Convert this dataframe to an interactive table.\"\n",
              "              style=\"display:none;\">\n",
              "        \n",
              "  <svg xmlns=\"http://www.w3.org/2000/svg\" height=\"24px\"viewBox=\"0 0 24 24\"\n",
              "       width=\"24px\">\n",
              "    <path d=\"M0 0h24v24H0V0z\" fill=\"none\"/>\n",
              "    <path d=\"M18.56 5.44l.94 2.06.94-2.06 2.06-.94-2.06-.94-.94-2.06-.94 2.06-2.06.94zm-11 1L8.5 8.5l.94-2.06 2.06-.94-2.06-.94L8.5 2.5l-.94 2.06-2.06.94zm10 10l.94 2.06.94-2.06 2.06-.94-2.06-.94-.94-2.06-.94 2.06-2.06.94z\"/><path d=\"M17.41 7.96l-1.37-1.37c-.4-.4-.92-.59-1.43-.59-.52 0-1.04.2-1.43.59L10.3 9.45l-7.72 7.72c-.78.78-.78 2.05 0 2.83L4 21.41c.39.39.9.59 1.41.59.51 0 1.02-.2 1.41-.59l7.78-7.78 2.81-2.81c.8-.78.8-2.07 0-2.86zM5.41 20L4 18.59l7.72-7.72 1.47 1.35L5.41 20z\"/>\n",
              "  </svg>\n",
              "      </button>\n",
              "      \n",
              "  <style>\n",
              "    .colab-df-container {\n",
              "      display:flex;\n",
              "      flex-wrap:wrap;\n",
              "      gap: 12px;\n",
              "    }\n",
              "\n",
              "    .colab-df-convert {\n",
              "      background-color: #E8F0FE;\n",
              "      border: none;\n",
              "      border-radius: 50%;\n",
              "      cursor: pointer;\n",
              "      display: none;\n",
              "      fill: #1967D2;\n",
              "      height: 32px;\n",
              "      padding: 0 0 0 0;\n",
              "      width: 32px;\n",
              "    }\n",
              "\n",
              "    .colab-df-convert:hover {\n",
              "      background-color: #E2EBFA;\n",
              "      box-shadow: 0px 1px 2px rgba(60, 64, 67, 0.3), 0px 1px 3px 1px rgba(60, 64, 67, 0.15);\n",
              "      fill: #174EA6;\n",
              "    }\n",
              "\n",
              "    [theme=dark] .colab-df-convert {\n",
              "      background-color: #3B4455;\n",
              "      fill: #D2E3FC;\n",
              "    }\n",
              "\n",
              "    [theme=dark] .colab-df-convert:hover {\n",
              "      background-color: #434B5C;\n",
              "      box-shadow: 0px 1px 3px 1px rgba(0, 0, 0, 0.15);\n",
              "      filter: drop-shadow(0px 1px 2px rgba(0, 0, 0, 0.3));\n",
              "      fill: #FFFFFF;\n",
              "    }\n",
              "  </style>\n",
              "\n",
              "      <script>\n",
              "        const buttonEl =\n",
              "          document.querySelector('#df-c3ea5ed2-bcf1-480b-a5c5-85cebe34e3dc button.colab-df-convert');\n",
              "        buttonEl.style.display =\n",
              "          google.colab.kernel.accessAllowed ? 'block' : 'none';\n",
              "\n",
              "        async function convertToInteractive(key) {\n",
              "          const element = document.querySelector('#df-c3ea5ed2-bcf1-480b-a5c5-85cebe34e3dc');\n",
              "          const dataTable =\n",
              "            await google.colab.kernel.invokeFunction('convertToInteractive',\n",
              "                                                     [key], {});\n",
              "          if (!dataTable) return;\n",
              "\n",
              "          const docLinkHtml = 'Like what you see? Visit the ' +\n",
              "            '<a target=\"_blank\" href=https://colab.research.google.com/notebooks/data_table.ipynb>data table notebook</a>'\n",
              "            + ' to learn more about interactive tables.';\n",
              "          element.innerHTML = '';\n",
              "          dataTable['output_type'] = 'display_data';\n",
              "          await google.colab.output.renderOutput(dataTable, element);\n",
              "          const docLink = document.createElement('div');\n",
              "          docLink.innerHTML = docLinkHtml;\n",
              "          element.appendChild(docLink);\n",
              "        }\n",
              "      </script>\n",
              "    </div>\n",
              "  </div>\n",
              "  "
            ]
          },
          "metadata": {},
          "execution_count": 65
        }
      ]
    },
    {
      "cell_type": "code",
      "source": [
        "data.info()"
      ],
      "metadata": {
        "colab": {
          "base_uri": "https://localhost:8080/"
        },
        "id": "bMRUJmjBO1u8",
        "outputId": "c925ac69-5835-49be-f075-c239483de06f"
      },
      "execution_count": null,
      "outputs": [
        {
          "output_type": "stream",
          "name": "stdout",
          "text": [
            "<class 'pandas.core.frame.DataFrame'>\n",
            "RangeIndex: 1000000 entries, 0 to 999999\n",
            "Data columns (total 10 columns):\n",
            " #   Column       Non-Null Count    Dtype \n",
            "---  ------       --------------    ----- \n",
            " 0   record       1000000 non-null  int64 \n",
            " 1   date         1000000 non-null  int64 \n",
            " 2   ssn          1000000 non-null  int64 \n",
            " 3   firstname    1000000 non-null  object\n",
            " 4   lastname     1000000 non-null  object\n",
            " 5   address      1000000 non-null  object\n",
            " 6   zip5         1000000 non-null  int64 \n",
            " 7   dob          1000000 non-null  int64 \n",
            " 8   homephone    1000000 non-null  int64 \n",
            " 9   fraud_label  1000000 non-null  int64 \n",
            "dtypes: int64(7), object(3)\n",
            "memory usage: 76.3+ MB\n"
          ]
        }
      ]
    },
    {
      "cell_type": "code",
      "source": [
        "# Before cleaning or formatting\n",
        "data.head(10)"
      ],
      "metadata": {
        "colab": {
          "base_uri": "https://localhost:8080/",
          "height": 363
        },
        "id": "G_EbBATfOmtY",
        "outputId": "de4f631c-7ec9-4d28-908f-4761f991cfb0"
      },
      "execution_count": null,
      "outputs": [
        {
          "output_type": "execute_result",
          "data": {
            "text/plain": [
              "   record      date        ssn  firstname  lastname        address   zip5  \\\n",
              "0       1  20170101  379070012   XRRAMMTR  SMJETJMJ  6861 EUTST PL   2765   \n",
              "1       2  20170101  387482503   MAMSTUJR  RTTEMRRR  7280 URASA PL  57169   \n",
              "2       3  20170101  200332444  SZMMUJEZS  EUSEZRAE  5581 RSREX LN  56721   \n",
              "3       4  20170101  747451317  SJJZSXRSZ  ETJXTXXS  1387 UJZXJ RD  35286   \n",
              "4       5  20170101   24065868  SSSXUEJMS  SSUUJXUZ   279 EAASA WY   3173   \n",
              "5       6  20170101  922264214  XEEJJSTER   ERJSAXA  4322 USJXU LN   8391   \n",
              "6       7  20170101  415812149  XZJRJUSRR  STSMJRUM   478 EEXUM LN  41640   \n",
              "7       8  20170101  373752050  EJMRRSUXR   AMTZXRU   8906 UUAJ PL  60567   \n",
              "8       9  20170101  769970791  RXTSZJATS  RSXMRJME  8266 SSEAR RD  37934   \n",
              "9      10  20170101  732119085  EREMTZXXA  EXMMSEXT  9166 XXSAZ PL  93751   \n",
              "\n",
              "        dob   homephone  fraud_label  \n",
              "0  19070626  1797504115            0  \n",
              "1  19340615  4164239415            1  \n",
              "2  19070626   216537580            0  \n",
              "3  19440430   132144161            0  \n",
              "4  19980315  6101082272            0  \n",
              "5  19480613  5742016319            0  \n",
              "6  19640318  7697396312            0  \n",
              "7  19190528  2727421586            0  \n",
              "8  19900314  5520652307            0  \n",
              "9  19750127  3749451123            0  "
            ],
            "text/html": [
              "\n",
              "  <div id=\"df-15edf0c2-0b01-400d-a92e-ab37a0dc7872\">\n",
              "    <div class=\"colab-df-container\">\n",
              "      <div>\n",
              "<style scoped>\n",
              "    .dataframe tbody tr th:only-of-type {\n",
              "        vertical-align: middle;\n",
              "    }\n",
              "\n",
              "    .dataframe tbody tr th {\n",
              "        vertical-align: top;\n",
              "    }\n",
              "\n",
              "    .dataframe thead th {\n",
              "        text-align: right;\n",
              "    }\n",
              "</style>\n",
              "<table border=\"1\" class=\"dataframe\">\n",
              "  <thead>\n",
              "    <tr style=\"text-align: right;\">\n",
              "      <th></th>\n",
              "      <th>record</th>\n",
              "      <th>date</th>\n",
              "      <th>ssn</th>\n",
              "      <th>firstname</th>\n",
              "      <th>lastname</th>\n",
              "      <th>address</th>\n",
              "      <th>zip5</th>\n",
              "      <th>dob</th>\n",
              "      <th>homephone</th>\n",
              "      <th>fraud_label</th>\n",
              "    </tr>\n",
              "  </thead>\n",
              "  <tbody>\n",
              "    <tr>\n",
              "      <th>0</th>\n",
              "      <td>1</td>\n",
              "      <td>20170101</td>\n",
              "      <td>379070012</td>\n",
              "      <td>XRRAMMTR</td>\n",
              "      <td>SMJETJMJ</td>\n",
              "      <td>6861 EUTST PL</td>\n",
              "      <td>2765</td>\n",
              "      <td>19070626</td>\n",
              "      <td>1797504115</td>\n",
              "      <td>0</td>\n",
              "    </tr>\n",
              "    <tr>\n",
              "      <th>1</th>\n",
              "      <td>2</td>\n",
              "      <td>20170101</td>\n",
              "      <td>387482503</td>\n",
              "      <td>MAMSTUJR</td>\n",
              "      <td>RTTEMRRR</td>\n",
              "      <td>7280 URASA PL</td>\n",
              "      <td>57169</td>\n",
              "      <td>19340615</td>\n",
              "      <td>4164239415</td>\n",
              "      <td>1</td>\n",
              "    </tr>\n",
              "    <tr>\n",
              "      <th>2</th>\n",
              "      <td>3</td>\n",
              "      <td>20170101</td>\n",
              "      <td>200332444</td>\n",
              "      <td>SZMMUJEZS</td>\n",
              "      <td>EUSEZRAE</td>\n",
              "      <td>5581 RSREX LN</td>\n",
              "      <td>56721</td>\n",
              "      <td>19070626</td>\n",
              "      <td>216537580</td>\n",
              "      <td>0</td>\n",
              "    </tr>\n",
              "    <tr>\n",
              "      <th>3</th>\n",
              "      <td>4</td>\n",
              "      <td>20170101</td>\n",
              "      <td>747451317</td>\n",
              "      <td>SJJZSXRSZ</td>\n",
              "      <td>ETJXTXXS</td>\n",
              "      <td>1387 UJZXJ RD</td>\n",
              "      <td>35286</td>\n",
              "      <td>19440430</td>\n",
              "      <td>132144161</td>\n",
              "      <td>0</td>\n",
              "    </tr>\n",
              "    <tr>\n",
              "      <th>4</th>\n",
              "      <td>5</td>\n",
              "      <td>20170101</td>\n",
              "      <td>24065868</td>\n",
              "      <td>SSSXUEJMS</td>\n",
              "      <td>SSUUJXUZ</td>\n",
              "      <td>279 EAASA WY</td>\n",
              "      <td>3173</td>\n",
              "      <td>19980315</td>\n",
              "      <td>6101082272</td>\n",
              "      <td>0</td>\n",
              "    </tr>\n",
              "    <tr>\n",
              "      <th>5</th>\n",
              "      <td>6</td>\n",
              "      <td>20170101</td>\n",
              "      <td>922264214</td>\n",
              "      <td>XEEJJSTER</td>\n",
              "      <td>ERJSAXA</td>\n",
              "      <td>4322 USJXU LN</td>\n",
              "      <td>8391</td>\n",
              "      <td>19480613</td>\n",
              "      <td>5742016319</td>\n",
              "      <td>0</td>\n",
              "    </tr>\n",
              "    <tr>\n",
              "      <th>6</th>\n",
              "      <td>7</td>\n",
              "      <td>20170101</td>\n",
              "      <td>415812149</td>\n",
              "      <td>XZJRJUSRR</td>\n",
              "      <td>STSMJRUM</td>\n",
              "      <td>478 EEXUM LN</td>\n",
              "      <td>41640</td>\n",
              "      <td>19640318</td>\n",
              "      <td>7697396312</td>\n",
              "      <td>0</td>\n",
              "    </tr>\n",
              "    <tr>\n",
              "      <th>7</th>\n",
              "      <td>8</td>\n",
              "      <td>20170101</td>\n",
              "      <td>373752050</td>\n",
              "      <td>EJMRRSUXR</td>\n",
              "      <td>AMTZXRU</td>\n",
              "      <td>8906 UUAJ PL</td>\n",
              "      <td>60567</td>\n",
              "      <td>19190528</td>\n",
              "      <td>2727421586</td>\n",
              "      <td>0</td>\n",
              "    </tr>\n",
              "    <tr>\n",
              "      <th>8</th>\n",
              "      <td>9</td>\n",
              "      <td>20170101</td>\n",
              "      <td>769970791</td>\n",
              "      <td>RXTSZJATS</td>\n",
              "      <td>RSXMRJME</td>\n",
              "      <td>8266 SSEAR RD</td>\n",
              "      <td>37934</td>\n",
              "      <td>19900314</td>\n",
              "      <td>5520652307</td>\n",
              "      <td>0</td>\n",
              "    </tr>\n",
              "    <tr>\n",
              "      <th>9</th>\n",
              "      <td>10</td>\n",
              "      <td>20170101</td>\n",
              "      <td>732119085</td>\n",
              "      <td>EREMTZXXA</td>\n",
              "      <td>EXMMSEXT</td>\n",
              "      <td>9166 XXSAZ PL</td>\n",
              "      <td>93751</td>\n",
              "      <td>19750127</td>\n",
              "      <td>3749451123</td>\n",
              "      <td>0</td>\n",
              "    </tr>\n",
              "  </tbody>\n",
              "</table>\n",
              "</div>\n",
              "      <button class=\"colab-df-convert\" onclick=\"convertToInteractive('df-15edf0c2-0b01-400d-a92e-ab37a0dc7872')\"\n",
              "              title=\"Convert this dataframe to an interactive table.\"\n",
              "              style=\"display:none;\">\n",
              "        \n",
              "  <svg xmlns=\"http://www.w3.org/2000/svg\" height=\"24px\"viewBox=\"0 0 24 24\"\n",
              "       width=\"24px\">\n",
              "    <path d=\"M0 0h24v24H0V0z\" fill=\"none\"/>\n",
              "    <path d=\"M18.56 5.44l.94 2.06.94-2.06 2.06-.94-2.06-.94-.94-2.06-.94 2.06-2.06.94zm-11 1L8.5 8.5l.94-2.06 2.06-.94-2.06-.94L8.5 2.5l-.94 2.06-2.06.94zm10 10l.94 2.06.94-2.06 2.06-.94-2.06-.94-.94-2.06-.94 2.06-2.06.94z\"/><path d=\"M17.41 7.96l-1.37-1.37c-.4-.4-.92-.59-1.43-.59-.52 0-1.04.2-1.43.59L10.3 9.45l-7.72 7.72c-.78.78-.78 2.05 0 2.83L4 21.41c.39.39.9.59 1.41.59.51 0 1.02-.2 1.41-.59l7.78-7.78 2.81-2.81c.8-.78.8-2.07 0-2.86zM5.41 20L4 18.59l7.72-7.72 1.47 1.35L5.41 20z\"/>\n",
              "  </svg>\n",
              "      </button>\n",
              "      \n",
              "  <style>\n",
              "    .colab-df-container {\n",
              "      display:flex;\n",
              "      flex-wrap:wrap;\n",
              "      gap: 12px;\n",
              "    }\n",
              "\n",
              "    .colab-df-convert {\n",
              "      background-color: #E8F0FE;\n",
              "      border: none;\n",
              "      border-radius: 50%;\n",
              "      cursor: pointer;\n",
              "      display: none;\n",
              "      fill: #1967D2;\n",
              "      height: 32px;\n",
              "      padding: 0 0 0 0;\n",
              "      width: 32px;\n",
              "    }\n",
              "\n",
              "    .colab-df-convert:hover {\n",
              "      background-color: #E2EBFA;\n",
              "      box-shadow: 0px 1px 2px rgba(60, 64, 67, 0.3), 0px 1px 3px 1px rgba(60, 64, 67, 0.15);\n",
              "      fill: #174EA6;\n",
              "    }\n",
              "\n",
              "    [theme=dark] .colab-df-convert {\n",
              "      background-color: #3B4455;\n",
              "      fill: #D2E3FC;\n",
              "    }\n",
              "\n",
              "    [theme=dark] .colab-df-convert:hover {\n",
              "      background-color: #434B5C;\n",
              "      box-shadow: 0px 1px 3px 1px rgba(0, 0, 0, 0.15);\n",
              "      filter: drop-shadow(0px 1px 2px rgba(0, 0, 0, 0.3));\n",
              "      fill: #FFFFFF;\n",
              "    }\n",
              "  </style>\n",
              "\n",
              "      <script>\n",
              "        const buttonEl =\n",
              "          document.querySelector('#df-15edf0c2-0b01-400d-a92e-ab37a0dc7872 button.colab-df-convert');\n",
              "        buttonEl.style.display =\n",
              "          google.colab.kernel.accessAllowed ? 'block' : 'none';\n",
              "\n",
              "        async function convertToInteractive(key) {\n",
              "          const element = document.querySelector('#df-15edf0c2-0b01-400d-a92e-ab37a0dc7872');\n",
              "          const dataTable =\n",
              "            await google.colab.kernel.invokeFunction('convertToInteractive',\n",
              "                                                     [key], {});\n",
              "          if (!dataTable) return;\n",
              "\n",
              "          const docLinkHtml = 'Like what you see? Visit the ' +\n",
              "            '<a target=\"_blank\" href=https://colab.research.google.com/notebooks/data_table.ipynb>data table notebook</a>'\n",
              "            + ' to learn more about interactive tables.';\n",
              "          element.innerHTML = '';\n",
              "          dataTable['output_type'] = 'display_data';\n",
              "          await google.colab.output.renderOutput(dataTable, element);\n",
              "          const docLink = document.createElement('div');\n",
              "          docLink.innerHTML = docLinkHtml;\n",
              "          element.appendChild(docLink);\n",
              "        }\n",
              "      </script>\n",
              "    </div>\n",
              "  </div>\n",
              "  "
            ]
          },
          "metadata": {},
          "execution_count": 67
        }
      ]
    },
    {
      "cell_type": "code",
      "source": [
        "# Formating date \n",
        "\n",
        "data['appyear'] = (data['date'] / 10000).astype('int')\n",
        "data['appmonth'] = ((data['date'] - data['appyear'] * 10000) / 100).astype('int')\n",
        "data['appday'] = data['date'] - data['appyear'] * 10000 - data['appmonth'] * 100\n",
        "data['date'] = pd.to_datetime(data.appyear*10000+data.appmonth*100+data.appday,format='%Y%m%d')\n",
        "data = data.drop(columns = ['appyear','appmonth','appday'])\n",
        "# error message bc code is re-ran and has already been executed"
      ],
      "metadata": {
        "id": "P-TNeF3xPcak"
      },
      "execution_count": null,
      "outputs": []
    },
    {
      "cell_type": "code",
      "source": [
        "data['fraud_label'] = data['fraud_label'].astype(int)"
      ],
      "metadata": {
        "id": "4eX7Dyv9RMJo"
      },
      "execution_count": null,
      "outputs": []
    },
    {
      "cell_type": "markdown",
      "source": [
        "# **After Formatting**"
      ],
      "metadata": {
        "id": "rYEfVFqOAhkj"
      }
    },
    {
      "cell_type": "code",
      "source": [
        "# After cleaning or formatting\n",
        "data.head(10)"
      ],
      "metadata": {
        "colab": {
          "base_uri": "https://localhost:8080/",
          "height": 363
        },
        "id": "5ccg1rkCPiqp",
        "outputId": "3a7caaec-fb65-48ef-fdab-14974f17352e"
      },
      "execution_count": null,
      "outputs": [
        {
          "output_type": "execute_result",
          "data": {
            "text/plain": [
              "   record       date        ssn  firstname  lastname        address   zip5  \\\n",
              "0       1 2017-01-01  379070012   XRRAMMTR  SMJETJMJ  6861 EUTST PL   2765   \n",
              "1       2 2017-01-01  387482503   MAMSTUJR  RTTEMRRR  7280 URASA PL  57169   \n",
              "2       3 2017-01-01  200332444  SZMMUJEZS  EUSEZRAE  5581 RSREX LN  56721   \n",
              "3       4 2017-01-01  747451317  SJJZSXRSZ  ETJXTXXS  1387 UJZXJ RD  35286   \n",
              "4       5 2017-01-01   24065868  SSSXUEJMS  SSUUJXUZ   279 EAASA WY   3173   \n",
              "5       6 2017-01-01  922264214  XEEJJSTER   ERJSAXA  4322 USJXU LN   8391   \n",
              "6       7 2017-01-01  415812149  XZJRJUSRR  STSMJRUM   478 EEXUM LN  41640   \n",
              "7       8 2017-01-01  373752050  EJMRRSUXR   AMTZXRU   8906 UUAJ PL  60567   \n",
              "8       9 2017-01-01  769970791  RXTSZJATS  RSXMRJME  8266 SSEAR RD  37934   \n",
              "9      10 2017-01-01  732119085  EREMTZXXA  EXMMSEXT  9166 XXSAZ PL  93751   \n",
              "\n",
              "        dob   homephone  fraud_label  \n",
              "0  19070626  1797504115            0  \n",
              "1  19340615  4164239415            1  \n",
              "2  19070626   216537580            0  \n",
              "3  19440430   132144161            0  \n",
              "4  19980315  6101082272            0  \n",
              "5  19480613  5742016319            0  \n",
              "6  19640318  7697396312            0  \n",
              "7  19190528  2727421586            0  \n",
              "8  19900314  5520652307            0  \n",
              "9  19750127  3749451123            0  "
            ],
            "text/html": [
              "\n",
              "  <div id=\"df-3bd81512-6364-45ac-8c63-434b954f521d\">\n",
              "    <div class=\"colab-df-container\">\n",
              "      <div>\n",
              "<style scoped>\n",
              "    .dataframe tbody tr th:only-of-type {\n",
              "        vertical-align: middle;\n",
              "    }\n",
              "\n",
              "    .dataframe tbody tr th {\n",
              "        vertical-align: top;\n",
              "    }\n",
              "\n",
              "    .dataframe thead th {\n",
              "        text-align: right;\n",
              "    }\n",
              "</style>\n",
              "<table border=\"1\" class=\"dataframe\">\n",
              "  <thead>\n",
              "    <tr style=\"text-align: right;\">\n",
              "      <th></th>\n",
              "      <th>record</th>\n",
              "      <th>date</th>\n",
              "      <th>ssn</th>\n",
              "      <th>firstname</th>\n",
              "      <th>lastname</th>\n",
              "      <th>address</th>\n",
              "      <th>zip5</th>\n",
              "      <th>dob</th>\n",
              "      <th>homephone</th>\n",
              "      <th>fraud_label</th>\n",
              "    </tr>\n",
              "  </thead>\n",
              "  <tbody>\n",
              "    <tr>\n",
              "      <th>0</th>\n",
              "      <td>1</td>\n",
              "      <td>2017-01-01</td>\n",
              "      <td>379070012</td>\n",
              "      <td>XRRAMMTR</td>\n",
              "      <td>SMJETJMJ</td>\n",
              "      <td>6861 EUTST PL</td>\n",
              "      <td>2765</td>\n",
              "      <td>19070626</td>\n",
              "      <td>1797504115</td>\n",
              "      <td>0</td>\n",
              "    </tr>\n",
              "    <tr>\n",
              "      <th>1</th>\n",
              "      <td>2</td>\n",
              "      <td>2017-01-01</td>\n",
              "      <td>387482503</td>\n",
              "      <td>MAMSTUJR</td>\n",
              "      <td>RTTEMRRR</td>\n",
              "      <td>7280 URASA PL</td>\n",
              "      <td>57169</td>\n",
              "      <td>19340615</td>\n",
              "      <td>4164239415</td>\n",
              "      <td>1</td>\n",
              "    </tr>\n",
              "    <tr>\n",
              "      <th>2</th>\n",
              "      <td>3</td>\n",
              "      <td>2017-01-01</td>\n",
              "      <td>200332444</td>\n",
              "      <td>SZMMUJEZS</td>\n",
              "      <td>EUSEZRAE</td>\n",
              "      <td>5581 RSREX LN</td>\n",
              "      <td>56721</td>\n",
              "      <td>19070626</td>\n",
              "      <td>216537580</td>\n",
              "      <td>0</td>\n",
              "    </tr>\n",
              "    <tr>\n",
              "      <th>3</th>\n",
              "      <td>4</td>\n",
              "      <td>2017-01-01</td>\n",
              "      <td>747451317</td>\n",
              "      <td>SJJZSXRSZ</td>\n",
              "      <td>ETJXTXXS</td>\n",
              "      <td>1387 UJZXJ RD</td>\n",
              "      <td>35286</td>\n",
              "      <td>19440430</td>\n",
              "      <td>132144161</td>\n",
              "      <td>0</td>\n",
              "    </tr>\n",
              "    <tr>\n",
              "      <th>4</th>\n",
              "      <td>5</td>\n",
              "      <td>2017-01-01</td>\n",
              "      <td>24065868</td>\n",
              "      <td>SSSXUEJMS</td>\n",
              "      <td>SSUUJXUZ</td>\n",
              "      <td>279 EAASA WY</td>\n",
              "      <td>3173</td>\n",
              "      <td>19980315</td>\n",
              "      <td>6101082272</td>\n",
              "      <td>0</td>\n",
              "    </tr>\n",
              "    <tr>\n",
              "      <th>5</th>\n",
              "      <td>6</td>\n",
              "      <td>2017-01-01</td>\n",
              "      <td>922264214</td>\n",
              "      <td>XEEJJSTER</td>\n",
              "      <td>ERJSAXA</td>\n",
              "      <td>4322 USJXU LN</td>\n",
              "      <td>8391</td>\n",
              "      <td>19480613</td>\n",
              "      <td>5742016319</td>\n",
              "      <td>0</td>\n",
              "    </tr>\n",
              "    <tr>\n",
              "      <th>6</th>\n",
              "      <td>7</td>\n",
              "      <td>2017-01-01</td>\n",
              "      <td>415812149</td>\n",
              "      <td>XZJRJUSRR</td>\n",
              "      <td>STSMJRUM</td>\n",
              "      <td>478 EEXUM LN</td>\n",
              "      <td>41640</td>\n",
              "      <td>19640318</td>\n",
              "      <td>7697396312</td>\n",
              "      <td>0</td>\n",
              "    </tr>\n",
              "    <tr>\n",
              "      <th>7</th>\n",
              "      <td>8</td>\n",
              "      <td>2017-01-01</td>\n",
              "      <td>373752050</td>\n",
              "      <td>EJMRRSUXR</td>\n",
              "      <td>AMTZXRU</td>\n",
              "      <td>8906 UUAJ PL</td>\n",
              "      <td>60567</td>\n",
              "      <td>19190528</td>\n",
              "      <td>2727421586</td>\n",
              "      <td>0</td>\n",
              "    </tr>\n",
              "    <tr>\n",
              "      <th>8</th>\n",
              "      <td>9</td>\n",
              "      <td>2017-01-01</td>\n",
              "      <td>769970791</td>\n",
              "      <td>RXTSZJATS</td>\n",
              "      <td>RSXMRJME</td>\n",
              "      <td>8266 SSEAR RD</td>\n",
              "      <td>37934</td>\n",
              "      <td>19900314</td>\n",
              "      <td>5520652307</td>\n",
              "      <td>0</td>\n",
              "    </tr>\n",
              "    <tr>\n",
              "      <th>9</th>\n",
              "      <td>10</td>\n",
              "      <td>2017-01-01</td>\n",
              "      <td>732119085</td>\n",
              "      <td>EREMTZXXA</td>\n",
              "      <td>EXMMSEXT</td>\n",
              "      <td>9166 XXSAZ PL</td>\n",
              "      <td>93751</td>\n",
              "      <td>19750127</td>\n",
              "      <td>3749451123</td>\n",
              "      <td>0</td>\n",
              "    </tr>\n",
              "  </tbody>\n",
              "</table>\n",
              "</div>\n",
              "      <button class=\"colab-df-convert\" onclick=\"convertToInteractive('df-3bd81512-6364-45ac-8c63-434b954f521d')\"\n",
              "              title=\"Convert this dataframe to an interactive table.\"\n",
              "              style=\"display:none;\">\n",
              "        \n",
              "  <svg xmlns=\"http://www.w3.org/2000/svg\" height=\"24px\"viewBox=\"0 0 24 24\"\n",
              "       width=\"24px\">\n",
              "    <path d=\"M0 0h24v24H0V0z\" fill=\"none\"/>\n",
              "    <path d=\"M18.56 5.44l.94 2.06.94-2.06 2.06-.94-2.06-.94-.94-2.06-.94 2.06-2.06.94zm-11 1L8.5 8.5l.94-2.06 2.06-.94-2.06-.94L8.5 2.5l-.94 2.06-2.06.94zm10 10l.94 2.06.94-2.06 2.06-.94-2.06-.94-.94-2.06-.94 2.06-2.06.94z\"/><path d=\"M17.41 7.96l-1.37-1.37c-.4-.4-.92-.59-1.43-.59-.52 0-1.04.2-1.43.59L10.3 9.45l-7.72 7.72c-.78.78-.78 2.05 0 2.83L4 21.41c.39.39.9.59 1.41.59.51 0 1.02-.2 1.41-.59l7.78-7.78 2.81-2.81c.8-.78.8-2.07 0-2.86zM5.41 20L4 18.59l7.72-7.72 1.47 1.35L5.41 20z\"/>\n",
              "  </svg>\n",
              "      </button>\n",
              "      \n",
              "  <style>\n",
              "    .colab-df-container {\n",
              "      display:flex;\n",
              "      flex-wrap:wrap;\n",
              "      gap: 12px;\n",
              "    }\n",
              "\n",
              "    .colab-df-convert {\n",
              "      background-color: #E8F0FE;\n",
              "      border: none;\n",
              "      border-radius: 50%;\n",
              "      cursor: pointer;\n",
              "      display: none;\n",
              "      fill: #1967D2;\n",
              "      height: 32px;\n",
              "      padding: 0 0 0 0;\n",
              "      width: 32px;\n",
              "    }\n",
              "\n",
              "    .colab-df-convert:hover {\n",
              "      background-color: #E2EBFA;\n",
              "      box-shadow: 0px 1px 2px rgba(60, 64, 67, 0.3), 0px 1px 3px 1px rgba(60, 64, 67, 0.15);\n",
              "      fill: #174EA6;\n",
              "    }\n",
              "\n",
              "    [theme=dark] .colab-df-convert {\n",
              "      background-color: #3B4455;\n",
              "      fill: #D2E3FC;\n",
              "    }\n",
              "\n",
              "    [theme=dark] .colab-df-convert:hover {\n",
              "      background-color: #434B5C;\n",
              "      box-shadow: 0px 1px 3px 1px rgba(0, 0, 0, 0.15);\n",
              "      filter: drop-shadow(0px 1px 2px rgba(0, 0, 0, 0.3));\n",
              "      fill: #FFFFFF;\n",
              "    }\n",
              "  </style>\n",
              "\n",
              "      <script>\n",
              "        const buttonEl =\n",
              "          document.querySelector('#df-3bd81512-6364-45ac-8c63-434b954f521d button.colab-df-convert');\n",
              "        buttonEl.style.display =\n",
              "          google.colab.kernel.accessAllowed ? 'block' : 'none';\n",
              "\n",
              "        async function convertToInteractive(key) {\n",
              "          const element = document.querySelector('#df-3bd81512-6364-45ac-8c63-434b954f521d');\n",
              "          const dataTable =\n",
              "            await google.colab.kernel.invokeFunction('convertToInteractive',\n",
              "                                                     [key], {});\n",
              "          if (!dataTable) return;\n",
              "\n",
              "          const docLinkHtml = 'Like what you see? Visit the ' +\n",
              "            '<a target=\"_blank\" href=https://colab.research.google.com/notebooks/data_table.ipynb>data table notebook</a>'\n",
              "            + ' to learn more about interactive tables.';\n",
              "          element.innerHTML = '';\n",
              "          dataTable['output_type'] = 'display_data';\n",
              "          await google.colab.output.renderOutput(dataTable, element);\n",
              "          const docLink = document.createElement('div');\n",
              "          docLink.innerHTML = docLinkHtml;\n",
              "          element.appendChild(docLink);\n",
              "        }\n",
              "      </script>\n",
              "    </div>\n",
              "  </div>\n",
              "  "
            ]
          },
          "metadata": {},
          "execution_count": 70
        }
      ]
    },
    {
      "cell_type": "code",
      "source": [
        "data.tail(10)"
      ],
      "metadata": {
        "colab": {
          "base_uri": "https://localhost:8080/",
          "height": 363
        },
        "id": "aFvsYwJfAqUn",
        "outputId": "75b4ffed-f473-44db-81e2-58b56aa08c69"
      },
      "execution_count": null,
      "outputs": [
        {
          "output_type": "execute_result",
          "data": {
            "text/plain": [
              "         record       date        ssn  firstname  lastname          address  \\\n",
              "999990   999991 2017-12-31  311934855  UZEEJUUAE  SXZXJRJT    3667 SEEMZ PL   \n",
              "999991   999992 2017-12-31  836715951  RZTMRMJAT  RJSASESA  3139 SZJAT BLVD   \n",
              "999992   999993 2017-12-31  138005271  EATERRSTR   UZJTXTS    6332 RRAUR RD   \n",
              "999993   999994 2017-12-31   66352989  EXURTTMUT  URMMJMXE  3724 UXASM BLVD   \n",
              "999994   999995 2017-12-31   26797401   XEJMESRU  UTATSZUX    2397 SXZEX DR   \n",
              "999995   999996 2017-12-31  766104848  XUSAAURMZ  EJXXEXZX   8079 EJRUJ AVE   \n",
              "999996   999997 2017-12-31  445178058  SAAJJEMTX  UMAUETJX   4817 UMSXT AVE   \n",
              "999997   999998 2017-12-31   25283410  ESRXXRSUX  EUEJRJJE    7562 RJMAZ ST   \n",
              "999998   999999 2017-12-31  361232148  XXMZSRXMA  RSRSUJSS    3408 UZZAM WY   \n",
              "999999  1000000 2017-12-31   40027083  RXZXSMEZA  UTEAAZXU     112 UTTJT PL   \n",
              "\n",
              "         zip5       dob   homephone  fraud_label  \n",
              "999990  12921  19240719  2209569257            0  \n",
              "999991  56999  19070626  9999999999            0  \n",
              "999992  23960  19490607  7559317028            0  \n",
              "999993  43552  19340123  5161204838            0  \n",
              "999994  54964  19360313  6114170353            0  \n",
              "999995  54890  19550418  8236558223            0  \n",
              "999996  74683  19150624  6790134432            0  \n",
              "999997  86805  19880628  3997657622            0  \n",
              "999998  49183  20120302  5935293731            0  \n",
              "999999  39491  19820826  5869926905            0  "
            ],
            "text/html": [
              "\n",
              "  <div id=\"df-0d3ef8f9-9a1d-45fc-8a4d-885c0e44ac12\">\n",
              "    <div class=\"colab-df-container\">\n",
              "      <div>\n",
              "<style scoped>\n",
              "    .dataframe tbody tr th:only-of-type {\n",
              "        vertical-align: middle;\n",
              "    }\n",
              "\n",
              "    .dataframe tbody tr th {\n",
              "        vertical-align: top;\n",
              "    }\n",
              "\n",
              "    .dataframe thead th {\n",
              "        text-align: right;\n",
              "    }\n",
              "</style>\n",
              "<table border=\"1\" class=\"dataframe\">\n",
              "  <thead>\n",
              "    <tr style=\"text-align: right;\">\n",
              "      <th></th>\n",
              "      <th>record</th>\n",
              "      <th>date</th>\n",
              "      <th>ssn</th>\n",
              "      <th>firstname</th>\n",
              "      <th>lastname</th>\n",
              "      <th>address</th>\n",
              "      <th>zip5</th>\n",
              "      <th>dob</th>\n",
              "      <th>homephone</th>\n",
              "      <th>fraud_label</th>\n",
              "    </tr>\n",
              "  </thead>\n",
              "  <tbody>\n",
              "    <tr>\n",
              "      <th>999990</th>\n",
              "      <td>999991</td>\n",
              "      <td>2017-12-31</td>\n",
              "      <td>311934855</td>\n",
              "      <td>UZEEJUUAE</td>\n",
              "      <td>SXZXJRJT</td>\n",
              "      <td>3667 SEEMZ PL</td>\n",
              "      <td>12921</td>\n",
              "      <td>19240719</td>\n",
              "      <td>2209569257</td>\n",
              "      <td>0</td>\n",
              "    </tr>\n",
              "    <tr>\n",
              "      <th>999991</th>\n",
              "      <td>999992</td>\n",
              "      <td>2017-12-31</td>\n",
              "      <td>836715951</td>\n",
              "      <td>RZTMRMJAT</td>\n",
              "      <td>RJSASESA</td>\n",
              "      <td>3139 SZJAT BLVD</td>\n",
              "      <td>56999</td>\n",
              "      <td>19070626</td>\n",
              "      <td>9999999999</td>\n",
              "      <td>0</td>\n",
              "    </tr>\n",
              "    <tr>\n",
              "      <th>999992</th>\n",
              "      <td>999993</td>\n",
              "      <td>2017-12-31</td>\n",
              "      <td>138005271</td>\n",
              "      <td>EATERRSTR</td>\n",
              "      <td>UZJTXTS</td>\n",
              "      <td>6332 RRAUR RD</td>\n",
              "      <td>23960</td>\n",
              "      <td>19490607</td>\n",
              "      <td>7559317028</td>\n",
              "      <td>0</td>\n",
              "    </tr>\n",
              "    <tr>\n",
              "      <th>999993</th>\n",
              "      <td>999994</td>\n",
              "      <td>2017-12-31</td>\n",
              "      <td>66352989</td>\n",
              "      <td>EXURTTMUT</td>\n",
              "      <td>URMMJMXE</td>\n",
              "      <td>3724 UXASM BLVD</td>\n",
              "      <td>43552</td>\n",
              "      <td>19340123</td>\n",
              "      <td>5161204838</td>\n",
              "      <td>0</td>\n",
              "    </tr>\n",
              "    <tr>\n",
              "      <th>999994</th>\n",
              "      <td>999995</td>\n",
              "      <td>2017-12-31</td>\n",
              "      <td>26797401</td>\n",
              "      <td>XEJMESRU</td>\n",
              "      <td>UTATSZUX</td>\n",
              "      <td>2397 SXZEX DR</td>\n",
              "      <td>54964</td>\n",
              "      <td>19360313</td>\n",
              "      <td>6114170353</td>\n",
              "      <td>0</td>\n",
              "    </tr>\n",
              "    <tr>\n",
              "      <th>999995</th>\n",
              "      <td>999996</td>\n",
              "      <td>2017-12-31</td>\n",
              "      <td>766104848</td>\n",
              "      <td>XUSAAURMZ</td>\n",
              "      <td>EJXXEXZX</td>\n",
              "      <td>8079 EJRUJ AVE</td>\n",
              "      <td>54890</td>\n",
              "      <td>19550418</td>\n",
              "      <td>8236558223</td>\n",
              "      <td>0</td>\n",
              "    </tr>\n",
              "    <tr>\n",
              "      <th>999996</th>\n",
              "      <td>999997</td>\n",
              "      <td>2017-12-31</td>\n",
              "      <td>445178058</td>\n",
              "      <td>SAAJJEMTX</td>\n",
              "      <td>UMAUETJX</td>\n",
              "      <td>4817 UMSXT AVE</td>\n",
              "      <td>74683</td>\n",
              "      <td>19150624</td>\n",
              "      <td>6790134432</td>\n",
              "      <td>0</td>\n",
              "    </tr>\n",
              "    <tr>\n",
              "      <th>999997</th>\n",
              "      <td>999998</td>\n",
              "      <td>2017-12-31</td>\n",
              "      <td>25283410</td>\n",
              "      <td>ESRXXRSUX</td>\n",
              "      <td>EUEJRJJE</td>\n",
              "      <td>7562 RJMAZ ST</td>\n",
              "      <td>86805</td>\n",
              "      <td>19880628</td>\n",
              "      <td>3997657622</td>\n",
              "      <td>0</td>\n",
              "    </tr>\n",
              "    <tr>\n",
              "      <th>999998</th>\n",
              "      <td>999999</td>\n",
              "      <td>2017-12-31</td>\n",
              "      <td>361232148</td>\n",
              "      <td>XXMZSRXMA</td>\n",
              "      <td>RSRSUJSS</td>\n",
              "      <td>3408 UZZAM WY</td>\n",
              "      <td>49183</td>\n",
              "      <td>20120302</td>\n",
              "      <td>5935293731</td>\n",
              "      <td>0</td>\n",
              "    </tr>\n",
              "    <tr>\n",
              "      <th>999999</th>\n",
              "      <td>1000000</td>\n",
              "      <td>2017-12-31</td>\n",
              "      <td>40027083</td>\n",
              "      <td>RXZXSMEZA</td>\n",
              "      <td>UTEAAZXU</td>\n",
              "      <td>112 UTTJT PL</td>\n",
              "      <td>39491</td>\n",
              "      <td>19820826</td>\n",
              "      <td>5869926905</td>\n",
              "      <td>0</td>\n",
              "    </tr>\n",
              "  </tbody>\n",
              "</table>\n",
              "</div>\n",
              "      <button class=\"colab-df-convert\" onclick=\"convertToInteractive('df-0d3ef8f9-9a1d-45fc-8a4d-885c0e44ac12')\"\n",
              "              title=\"Convert this dataframe to an interactive table.\"\n",
              "              style=\"display:none;\">\n",
              "        \n",
              "  <svg xmlns=\"http://www.w3.org/2000/svg\" height=\"24px\"viewBox=\"0 0 24 24\"\n",
              "       width=\"24px\">\n",
              "    <path d=\"M0 0h24v24H0V0z\" fill=\"none\"/>\n",
              "    <path d=\"M18.56 5.44l.94 2.06.94-2.06 2.06-.94-2.06-.94-.94-2.06-.94 2.06-2.06.94zm-11 1L8.5 8.5l.94-2.06 2.06-.94-2.06-.94L8.5 2.5l-.94 2.06-2.06.94zm10 10l.94 2.06.94-2.06 2.06-.94-2.06-.94-.94-2.06-.94 2.06-2.06.94z\"/><path d=\"M17.41 7.96l-1.37-1.37c-.4-.4-.92-.59-1.43-.59-.52 0-1.04.2-1.43.59L10.3 9.45l-7.72 7.72c-.78.78-.78 2.05 0 2.83L4 21.41c.39.39.9.59 1.41.59.51 0 1.02-.2 1.41-.59l7.78-7.78 2.81-2.81c.8-.78.8-2.07 0-2.86zM5.41 20L4 18.59l7.72-7.72 1.47 1.35L5.41 20z\"/>\n",
              "  </svg>\n",
              "      </button>\n",
              "      \n",
              "  <style>\n",
              "    .colab-df-container {\n",
              "      display:flex;\n",
              "      flex-wrap:wrap;\n",
              "      gap: 12px;\n",
              "    }\n",
              "\n",
              "    .colab-df-convert {\n",
              "      background-color: #E8F0FE;\n",
              "      border: none;\n",
              "      border-radius: 50%;\n",
              "      cursor: pointer;\n",
              "      display: none;\n",
              "      fill: #1967D2;\n",
              "      height: 32px;\n",
              "      padding: 0 0 0 0;\n",
              "      width: 32px;\n",
              "    }\n",
              "\n",
              "    .colab-df-convert:hover {\n",
              "      background-color: #E2EBFA;\n",
              "      box-shadow: 0px 1px 2px rgba(60, 64, 67, 0.3), 0px 1px 3px 1px rgba(60, 64, 67, 0.15);\n",
              "      fill: #174EA6;\n",
              "    }\n",
              "\n",
              "    [theme=dark] .colab-df-convert {\n",
              "      background-color: #3B4455;\n",
              "      fill: #D2E3FC;\n",
              "    }\n",
              "\n",
              "    [theme=dark] .colab-df-convert:hover {\n",
              "      background-color: #434B5C;\n",
              "      box-shadow: 0px 1px 3px 1px rgba(0, 0, 0, 0.15);\n",
              "      filter: drop-shadow(0px 1px 2px rgba(0, 0, 0, 0.3));\n",
              "      fill: #FFFFFF;\n",
              "    }\n",
              "  </style>\n",
              "\n",
              "      <script>\n",
              "        const buttonEl =\n",
              "          document.querySelector('#df-0d3ef8f9-9a1d-45fc-8a4d-885c0e44ac12 button.colab-df-convert');\n",
              "        buttonEl.style.display =\n",
              "          google.colab.kernel.accessAllowed ? 'block' : 'none';\n",
              "\n",
              "        async function convertToInteractive(key) {\n",
              "          const element = document.querySelector('#df-0d3ef8f9-9a1d-45fc-8a4d-885c0e44ac12');\n",
              "          const dataTable =\n",
              "            await google.colab.kernel.invokeFunction('convertToInteractive',\n",
              "                                                     [key], {});\n",
              "          if (!dataTable) return;\n",
              "\n",
              "          const docLinkHtml = 'Like what you see? Visit the ' +\n",
              "            '<a target=\"_blank\" href=https://colab.research.google.com/notebooks/data_table.ipynb>data table notebook</a>'\n",
              "            + ' to learn more about interactive tables.';\n",
              "          element.innerHTML = '';\n",
              "          dataTable['output_type'] = 'display_data';\n",
              "          await google.colab.output.renderOutput(dataTable, element);\n",
              "          const docLink = document.createElement('div');\n",
              "          docLink.innerHTML = docLinkHtml;\n",
              "          element.appendChild(docLink);\n",
              "        }\n",
              "      </script>\n",
              "    </div>\n",
              "  </div>\n",
              "  "
            ]
          },
          "metadata": {},
          "execution_count": 71
        }
      ]
    },
    {
      "cell_type": "code",
      "source": [
        "data.describe()"
      ],
      "metadata": {
        "colab": {
          "base_uri": "https://localhost:8080/",
          "height": 300
        },
        "id": "1eUlFJ4sPr3U",
        "outputId": "da975346-aa58-4794-80b4-acfb204ab05a"
      },
      "execution_count": null,
      "outputs": [
        {
          "output_type": "execute_result",
          "data": {
            "text/plain": [
              "               record           ssn            zip5           dob  \\\n",
              "count  1000000.000000  1.000000e+06  1000000.000000  1.000000e+06   \n",
              "mean    500000.500000  5.083415e+08    50073.333143  1.951725e+07   \n",
              "std     288675.278932  2.934864e+08    28915.921546  3.568872e+05   \n",
              "min          1.000000  3.600000e+01        2.000000  1.900010e+07   \n",
              "25%     250000.750000  2.542176e+08    24992.000000  1.916092e+07   \n",
              "50%     500000.500000  5.088144e+08    50492.000000  1.950090e+07   \n",
              "75%     750000.250000  7.630924e+08    74496.000000  1.983032e+07   \n",
              "max    1000000.000000  1.000000e+09    99999.000000  2.016103e+07   \n",
              "\n",
              "          homephone     fraud_label  \n",
              "count  1.000000e+06  1000000.000000  \n",
              "mean   5.368716e+09        0.014393  \n",
              "std    3.082161e+09        0.119104  \n",
              "min    5.937990e+05        0.000000  \n",
              "25%    2.677134e+09        0.000000  \n",
              "50%    5.399910e+09        0.000000  \n",
              "75%    8.109241e+09        0.000000  \n",
              "max    1.000000e+10        1.000000  "
            ],
            "text/html": [
              "\n",
              "  <div id=\"df-6461f44c-6fbf-4128-a35b-4cf85a309e0c\">\n",
              "    <div class=\"colab-df-container\">\n",
              "      <div>\n",
              "<style scoped>\n",
              "    .dataframe tbody tr th:only-of-type {\n",
              "        vertical-align: middle;\n",
              "    }\n",
              "\n",
              "    .dataframe tbody tr th {\n",
              "        vertical-align: top;\n",
              "    }\n",
              "\n",
              "    .dataframe thead th {\n",
              "        text-align: right;\n",
              "    }\n",
              "</style>\n",
              "<table border=\"1\" class=\"dataframe\">\n",
              "  <thead>\n",
              "    <tr style=\"text-align: right;\">\n",
              "      <th></th>\n",
              "      <th>record</th>\n",
              "      <th>ssn</th>\n",
              "      <th>zip5</th>\n",
              "      <th>dob</th>\n",
              "      <th>homephone</th>\n",
              "      <th>fraud_label</th>\n",
              "    </tr>\n",
              "  </thead>\n",
              "  <tbody>\n",
              "    <tr>\n",
              "      <th>count</th>\n",
              "      <td>1000000.000000</td>\n",
              "      <td>1.000000e+06</td>\n",
              "      <td>1000000.000000</td>\n",
              "      <td>1.000000e+06</td>\n",
              "      <td>1.000000e+06</td>\n",
              "      <td>1000000.000000</td>\n",
              "    </tr>\n",
              "    <tr>\n",
              "      <th>mean</th>\n",
              "      <td>500000.500000</td>\n",
              "      <td>5.083415e+08</td>\n",
              "      <td>50073.333143</td>\n",
              "      <td>1.951725e+07</td>\n",
              "      <td>5.368716e+09</td>\n",
              "      <td>0.014393</td>\n",
              "    </tr>\n",
              "    <tr>\n",
              "      <th>std</th>\n",
              "      <td>288675.278932</td>\n",
              "      <td>2.934864e+08</td>\n",
              "      <td>28915.921546</td>\n",
              "      <td>3.568872e+05</td>\n",
              "      <td>3.082161e+09</td>\n",
              "      <td>0.119104</td>\n",
              "    </tr>\n",
              "    <tr>\n",
              "      <th>min</th>\n",
              "      <td>1.000000</td>\n",
              "      <td>3.600000e+01</td>\n",
              "      <td>2.000000</td>\n",
              "      <td>1.900010e+07</td>\n",
              "      <td>5.937990e+05</td>\n",
              "      <td>0.000000</td>\n",
              "    </tr>\n",
              "    <tr>\n",
              "      <th>25%</th>\n",
              "      <td>250000.750000</td>\n",
              "      <td>2.542176e+08</td>\n",
              "      <td>24992.000000</td>\n",
              "      <td>1.916092e+07</td>\n",
              "      <td>2.677134e+09</td>\n",
              "      <td>0.000000</td>\n",
              "    </tr>\n",
              "    <tr>\n",
              "      <th>50%</th>\n",
              "      <td>500000.500000</td>\n",
              "      <td>5.088144e+08</td>\n",
              "      <td>50492.000000</td>\n",
              "      <td>1.950090e+07</td>\n",
              "      <td>5.399910e+09</td>\n",
              "      <td>0.000000</td>\n",
              "    </tr>\n",
              "    <tr>\n",
              "      <th>75%</th>\n",
              "      <td>750000.250000</td>\n",
              "      <td>7.630924e+08</td>\n",
              "      <td>74496.000000</td>\n",
              "      <td>1.983032e+07</td>\n",
              "      <td>8.109241e+09</td>\n",
              "      <td>0.000000</td>\n",
              "    </tr>\n",
              "    <tr>\n",
              "      <th>max</th>\n",
              "      <td>1000000.000000</td>\n",
              "      <td>1.000000e+09</td>\n",
              "      <td>99999.000000</td>\n",
              "      <td>2.016103e+07</td>\n",
              "      <td>1.000000e+10</td>\n",
              "      <td>1.000000</td>\n",
              "    </tr>\n",
              "  </tbody>\n",
              "</table>\n",
              "</div>\n",
              "      <button class=\"colab-df-convert\" onclick=\"convertToInteractive('df-6461f44c-6fbf-4128-a35b-4cf85a309e0c')\"\n",
              "              title=\"Convert this dataframe to an interactive table.\"\n",
              "              style=\"display:none;\">\n",
              "        \n",
              "  <svg xmlns=\"http://www.w3.org/2000/svg\" height=\"24px\"viewBox=\"0 0 24 24\"\n",
              "       width=\"24px\">\n",
              "    <path d=\"M0 0h24v24H0V0z\" fill=\"none\"/>\n",
              "    <path d=\"M18.56 5.44l.94 2.06.94-2.06 2.06-.94-2.06-.94-.94-2.06-.94 2.06-2.06.94zm-11 1L8.5 8.5l.94-2.06 2.06-.94-2.06-.94L8.5 2.5l-.94 2.06-2.06.94zm10 10l.94 2.06.94-2.06 2.06-.94-2.06-.94-.94-2.06-.94 2.06-2.06.94z\"/><path d=\"M17.41 7.96l-1.37-1.37c-.4-.4-.92-.59-1.43-.59-.52 0-1.04.2-1.43.59L10.3 9.45l-7.72 7.72c-.78.78-.78 2.05 0 2.83L4 21.41c.39.39.9.59 1.41.59.51 0 1.02-.2 1.41-.59l7.78-7.78 2.81-2.81c.8-.78.8-2.07 0-2.86zM5.41 20L4 18.59l7.72-7.72 1.47 1.35L5.41 20z\"/>\n",
              "  </svg>\n",
              "      </button>\n",
              "      \n",
              "  <style>\n",
              "    .colab-df-container {\n",
              "      display:flex;\n",
              "      flex-wrap:wrap;\n",
              "      gap: 12px;\n",
              "    }\n",
              "\n",
              "    .colab-df-convert {\n",
              "      background-color: #E8F0FE;\n",
              "      border: none;\n",
              "      border-radius: 50%;\n",
              "      cursor: pointer;\n",
              "      display: none;\n",
              "      fill: #1967D2;\n",
              "      height: 32px;\n",
              "      padding: 0 0 0 0;\n",
              "      width: 32px;\n",
              "    }\n",
              "\n",
              "    .colab-df-convert:hover {\n",
              "      background-color: #E2EBFA;\n",
              "      box-shadow: 0px 1px 2px rgba(60, 64, 67, 0.3), 0px 1px 3px 1px rgba(60, 64, 67, 0.15);\n",
              "      fill: #174EA6;\n",
              "    }\n",
              "\n",
              "    [theme=dark] .colab-df-convert {\n",
              "      background-color: #3B4455;\n",
              "      fill: #D2E3FC;\n",
              "    }\n",
              "\n",
              "    [theme=dark] .colab-df-convert:hover {\n",
              "      background-color: #434B5C;\n",
              "      box-shadow: 0px 1px 3px 1px rgba(0, 0, 0, 0.15);\n",
              "      filter: drop-shadow(0px 1px 2px rgba(0, 0, 0, 0.3));\n",
              "      fill: #FFFFFF;\n",
              "    }\n",
              "  </style>\n",
              "\n",
              "      <script>\n",
              "        const buttonEl =\n",
              "          document.querySelector('#df-6461f44c-6fbf-4128-a35b-4cf85a309e0c button.colab-df-convert');\n",
              "        buttonEl.style.display =\n",
              "          google.colab.kernel.accessAllowed ? 'block' : 'none';\n",
              "\n",
              "        async function convertToInteractive(key) {\n",
              "          const element = document.querySelector('#df-6461f44c-6fbf-4128-a35b-4cf85a309e0c');\n",
              "          const dataTable =\n",
              "            await google.colab.kernel.invokeFunction('convertToInteractive',\n",
              "                                                     [key], {});\n",
              "          if (!dataTable) return;\n",
              "\n",
              "          const docLinkHtml = 'Like what you see? Visit the ' +\n",
              "            '<a target=\"_blank\" href=https://colab.research.google.com/notebooks/data_table.ipynb>data table notebook</a>'\n",
              "            + ' to learn more about interactive tables.';\n",
              "          element.innerHTML = '';\n",
              "          dataTable['output_type'] = 'display_data';\n",
              "          await google.colab.output.renderOutput(dataTable, element);\n",
              "          const docLink = document.createElement('div');\n",
              "          docLink.innerHTML = docLinkHtml;\n",
              "          element.appendChild(docLink);\n",
              "        }\n",
              "      </script>\n",
              "    </div>\n",
              "  </div>\n",
              "  "
            ]
          },
          "metadata": {},
          "execution_count": 72
        }
      ]
    },
    {
      "cell_type": "code",
      "source": [
        "# Finding if there is missing value in the dataset\n",
        "data.isna().sum()"
      ],
      "metadata": {
        "colab": {
          "base_uri": "https://localhost:8080/"
        },
        "id": "v-VZi-pbD1M6",
        "outputId": "ac6d9cd2-22cc-4997-eeeb-0fd1dc23fcd3"
      },
      "execution_count": null,
      "outputs": [
        {
          "output_type": "execute_result",
          "data": {
            "text/plain": [
              "record         0\n",
              "date           0\n",
              "ssn            0\n",
              "firstname      0\n",
              "lastname       0\n",
              "address        0\n",
              "zip5           0\n",
              "dob            0\n",
              "homephone      0\n",
              "fraud_label    0\n",
              "dtype: int64"
            ]
          },
          "metadata": {},
          "execution_count": 73
        }
      ]
    },
    {
      "cell_type": "code",
      "source": [
        "## Verifying Extreme Values in DOB\n",
        "#data.loc[data['dob']== 20161031]"
      ],
      "metadata": {
        "id": "grlYqDr8BsP8"
      },
      "execution_count": null,
      "outputs": []
    },
    {
      "cell_type": "code",
      "source": [
        "data.info()"
      ],
      "metadata": {
        "colab": {
          "base_uri": "https://localhost:8080/"
        },
        "id": "l8eTuQY5Pv5g",
        "outputId": "945fab1f-7527-4730-9ae2-56132fb4c467"
      },
      "execution_count": null,
      "outputs": [
        {
          "output_type": "stream",
          "name": "stdout",
          "text": [
            "<class 'pandas.core.frame.DataFrame'>\n",
            "RangeIndex: 1000000 entries, 0 to 999999\n",
            "Data columns (total 10 columns):\n",
            " #   Column       Non-Null Count    Dtype         \n",
            "---  ------       --------------    -----         \n",
            " 0   record       1000000 non-null  int64         \n",
            " 1   date         1000000 non-null  datetime64[ns]\n",
            " 2   ssn          1000000 non-null  int64         \n",
            " 3   firstname    1000000 non-null  object        \n",
            " 4   lastname     1000000 non-null  object        \n",
            " 5   address      1000000 non-null  object        \n",
            " 6   zip5         1000000 non-null  int64         \n",
            " 7   dob          1000000 non-null  int64         \n",
            " 8   homephone    1000000 non-null  int64         \n",
            " 9   fraud_label  1000000 non-null  int64         \n",
            "dtypes: datetime64[ns](1), int64(6), object(3)\n",
            "memory usage: 76.3+ MB\n"
          ]
        }
      ]
    },
    {
      "cell_type": "code",
      "source": [
        "data.head(5)"
      ],
      "metadata": {
        "colab": {
          "base_uri": "https://localhost:8080/",
          "height": 206
        },
        "id": "CITV-N0kXku_",
        "outputId": "c0fff950-9ec2-4cc1-a6e4-0837fba7a736"
      },
      "execution_count": null,
      "outputs": [
        {
          "output_type": "execute_result",
          "data": {
            "text/plain": [
              "   record       date        ssn  firstname  lastname        address   zip5  \\\n",
              "0       1 2017-01-01  379070012   XRRAMMTR  SMJETJMJ  6861 EUTST PL   2765   \n",
              "1       2 2017-01-01  387482503   MAMSTUJR  RTTEMRRR  7280 URASA PL  57169   \n",
              "2       3 2017-01-01  200332444  SZMMUJEZS  EUSEZRAE  5581 RSREX LN  56721   \n",
              "3       4 2017-01-01  747451317  SJJZSXRSZ  ETJXTXXS  1387 UJZXJ RD  35286   \n",
              "4       5 2017-01-01   24065868  SSSXUEJMS  SSUUJXUZ   279 EAASA WY   3173   \n",
              "\n",
              "        dob   homephone  fraud_label  \n",
              "0  19070626  1797504115            0  \n",
              "1  19340615  4164239415            1  \n",
              "2  19070626   216537580            0  \n",
              "3  19440430   132144161            0  \n",
              "4  19980315  6101082272            0  "
            ],
            "text/html": [
              "\n",
              "  <div id=\"df-0d592c94-0f17-47b4-b603-613fab0e92b5\">\n",
              "    <div class=\"colab-df-container\">\n",
              "      <div>\n",
              "<style scoped>\n",
              "    .dataframe tbody tr th:only-of-type {\n",
              "        vertical-align: middle;\n",
              "    }\n",
              "\n",
              "    .dataframe tbody tr th {\n",
              "        vertical-align: top;\n",
              "    }\n",
              "\n",
              "    .dataframe thead th {\n",
              "        text-align: right;\n",
              "    }\n",
              "</style>\n",
              "<table border=\"1\" class=\"dataframe\">\n",
              "  <thead>\n",
              "    <tr style=\"text-align: right;\">\n",
              "      <th></th>\n",
              "      <th>record</th>\n",
              "      <th>date</th>\n",
              "      <th>ssn</th>\n",
              "      <th>firstname</th>\n",
              "      <th>lastname</th>\n",
              "      <th>address</th>\n",
              "      <th>zip5</th>\n",
              "      <th>dob</th>\n",
              "      <th>homephone</th>\n",
              "      <th>fraud_label</th>\n",
              "    </tr>\n",
              "  </thead>\n",
              "  <tbody>\n",
              "    <tr>\n",
              "      <th>0</th>\n",
              "      <td>1</td>\n",
              "      <td>2017-01-01</td>\n",
              "      <td>379070012</td>\n",
              "      <td>XRRAMMTR</td>\n",
              "      <td>SMJETJMJ</td>\n",
              "      <td>6861 EUTST PL</td>\n",
              "      <td>2765</td>\n",
              "      <td>19070626</td>\n",
              "      <td>1797504115</td>\n",
              "      <td>0</td>\n",
              "    </tr>\n",
              "    <tr>\n",
              "      <th>1</th>\n",
              "      <td>2</td>\n",
              "      <td>2017-01-01</td>\n",
              "      <td>387482503</td>\n",
              "      <td>MAMSTUJR</td>\n",
              "      <td>RTTEMRRR</td>\n",
              "      <td>7280 URASA PL</td>\n",
              "      <td>57169</td>\n",
              "      <td>19340615</td>\n",
              "      <td>4164239415</td>\n",
              "      <td>1</td>\n",
              "    </tr>\n",
              "    <tr>\n",
              "      <th>2</th>\n",
              "      <td>3</td>\n",
              "      <td>2017-01-01</td>\n",
              "      <td>200332444</td>\n",
              "      <td>SZMMUJEZS</td>\n",
              "      <td>EUSEZRAE</td>\n",
              "      <td>5581 RSREX LN</td>\n",
              "      <td>56721</td>\n",
              "      <td>19070626</td>\n",
              "      <td>216537580</td>\n",
              "      <td>0</td>\n",
              "    </tr>\n",
              "    <tr>\n",
              "      <th>3</th>\n",
              "      <td>4</td>\n",
              "      <td>2017-01-01</td>\n",
              "      <td>747451317</td>\n",
              "      <td>SJJZSXRSZ</td>\n",
              "      <td>ETJXTXXS</td>\n",
              "      <td>1387 UJZXJ RD</td>\n",
              "      <td>35286</td>\n",
              "      <td>19440430</td>\n",
              "      <td>132144161</td>\n",
              "      <td>0</td>\n",
              "    </tr>\n",
              "    <tr>\n",
              "      <th>4</th>\n",
              "      <td>5</td>\n",
              "      <td>2017-01-01</td>\n",
              "      <td>24065868</td>\n",
              "      <td>SSSXUEJMS</td>\n",
              "      <td>SSUUJXUZ</td>\n",
              "      <td>279 EAASA WY</td>\n",
              "      <td>3173</td>\n",
              "      <td>19980315</td>\n",
              "      <td>6101082272</td>\n",
              "      <td>0</td>\n",
              "    </tr>\n",
              "  </tbody>\n",
              "</table>\n",
              "</div>\n",
              "      <button class=\"colab-df-convert\" onclick=\"convertToInteractive('df-0d592c94-0f17-47b4-b603-613fab0e92b5')\"\n",
              "              title=\"Convert this dataframe to an interactive table.\"\n",
              "              style=\"display:none;\">\n",
              "        \n",
              "  <svg xmlns=\"http://www.w3.org/2000/svg\" height=\"24px\"viewBox=\"0 0 24 24\"\n",
              "       width=\"24px\">\n",
              "    <path d=\"M0 0h24v24H0V0z\" fill=\"none\"/>\n",
              "    <path d=\"M18.56 5.44l.94 2.06.94-2.06 2.06-.94-2.06-.94-.94-2.06-.94 2.06-2.06.94zm-11 1L8.5 8.5l.94-2.06 2.06-.94-2.06-.94L8.5 2.5l-.94 2.06-2.06.94zm10 10l.94 2.06.94-2.06 2.06-.94-2.06-.94-.94-2.06-.94 2.06-2.06.94z\"/><path d=\"M17.41 7.96l-1.37-1.37c-.4-.4-.92-.59-1.43-.59-.52 0-1.04.2-1.43.59L10.3 9.45l-7.72 7.72c-.78.78-.78 2.05 0 2.83L4 21.41c.39.39.9.59 1.41.59.51 0 1.02-.2 1.41-.59l7.78-7.78 2.81-2.81c.8-.78.8-2.07 0-2.86zM5.41 20L4 18.59l7.72-7.72 1.47 1.35L5.41 20z\"/>\n",
              "  </svg>\n",
              "      </button>\n",
              "      \n",
              "  <style>\n",
              "    .colab-df-container {\n",
              "      display:flex;\n",
              "      flex-wrap:wrap;\n",
              "      gap: 12px;\n",
              "    }\n",
              "\n",
              "    .colab-df-convert {\n",
              "      background-color: #E8F0FE;\n",
              "      border: none;\n",
              "      border-radius: 50%;\n",
              "      cursor: pointer;\n",
              "      display: none;\n",
              "      fill: #1967D2;\n",
              "      height: 32px;\n",
              "      padding: 0 0 0 0;\n",
              "      width: 32px;\n",
              "    }\n",
              "\n",
              "    .colab-df-convert:hover {\n",
              "      background-color: #E2EBFA;\n",
              "      box-shadow: 0px 1px 2px rgba(60, 64, 67, 0.3), 0px 1px 3px 1px rgba(60, 64, 67, 0.15);\n",
              "      fill: #174EA6;\n",
              "    }\n",
              "\n",
              "    [theme=dark] .colab-df-convert {\n",
              "      background-color: #3B4455;\n",
              "      fill: #D2E3FC;\n",
              "    }\n",
              "\n",
              "    [theme=dark] .colab-df-convert:hover {\n",
              "      background-color: #434B5C;\n",
              "      box-shadow: 0px 1px 3px 1px rgba(0, 0, 0, 0.15);\n",
              "      filter: drop-shadow(0px 1px 2px rgba(0, 0, 0, 0.3));\n",
              "      fill: #FFFFFF;\n",
              "    }\n",
              "  </style>\n",
              "\n",
              "      <script>\n",
              "        const buttonEl =\n",
              "          document.querySelector('#df-0d592c94-0f17-47b4-b603-613fab0e92b5 button.colab-df-convert');\n",
              "        buttonEl.style.display =\n",
              "          google.colab.kernel.accessAllowed ? 'block' : 'none';\n",
              "\n",
              "        async function convertToInteractive(key) {\n",
              "          const element = document.querySelector('#df-0d592c94-0f17-47b4-b603-613fab0e92b5');\n",
              "          const dataTable =\n",
              "            await google.colab.kernel.invokeFunction('convertToInteractive',\n",
              "                                                     [key], {});\n",
              "          if (!dataTable) return;\n",
              "\n",
              "          const docLinkHtml = 'Like what you see? Visit the ' +\n",
              "            '<a target=\"_blank\" href=https://colab.research.google.com/notebooks/data_table.ipynb>data table notebook</a>'\n",
              "            + ' to learn more about interactive tables.';\n",
              "          element.innerHTML = '';\n",
              "          dataTable['output_type'] = 'display_data';\n",
              "          await google.colab.output.renderOutput(dataTable, element);\n",
              "          const docLink = document.createElement('div');\n",
              "          docLink.innerHTML = docLinkHtml;\n",
              "          element.appendChild(docLink);\n",
              "        }\n",
              "      </script>\n",
              "    </div>\n",
              "  </div>\n",
              "  "
            ]
          },
          "metadata": {},
          "execution_count": 75
        }
      ]
    },
    {
      "cell_type": "code",
      "source": [
        "# Could also do sum if == 1\n",
        "data['fraud_label'].sum()"
      ],
      "metadata": {
        "colab": {
          "base_uri": "https://localhost:8080/"
        },
        "id": "25BgodNnP_s_",
        "outputId": "72bf0f2c-0625-4efc-d189-50ac1171fd4d"
      },
      "execution_count": null,
      "outputs": [
        {
          "output_type": "execute_result",
          "data": {
            "text/plain": [
              "14393"
            ]
          },
          "metadata": {},
          "execution_count": 76
        }
      ]
    },
    {
      "cell_type": "code",
      "source": [
        "# Creating a variable to store number of good and bad records\n",
        "goods = data[data['fraud_label'] == 0]\n",
        "bads = data[data['fraud_label'] == 1]"
      ],
      "metadata": {
        "id": "DHSN3oQkQLDN"
      },
      "execution_count": null,
      "outputs": []
    },
    {
      "cell_type": "code",
      "source": [
        "# Creating a variable to store number of records\n",
        "numrecords = len(data)\n",
        "print(numrecords)"
      ],
      "metadata": {
        "colab": {
          "base_uri": "https://localhost:8080/"
        },
        "id": "uluua1QYZu3R",
        "outputId": "0e592fff-63b3-4ba8-81d6-47754090c916"
      },
      "execution_count": null,
      "outputs": [
        {
          "output_type": "stream",
          "name": "stdout",
          "text": [
            "1000000\n"
          ]
        }
      ]
    },
    {
      "cell_type": "code",
      "source": [
        "print(len(goods))"
      ],
      "metadata": {
        "colab": {
          "base_uri": "https://localhost:8080/"
        },
        "id": "IJ_UXZRhRnWN",
        "outputId": "f0674a71-4b06-4ebd-bc0e-fa19ad11fac0"
      },
      "execution_count": null,
      "outputs": [
        {
          "output_type": "stream",
          "name": "stdout",
          "text": [
            "985607\n"
          ]
        }
      ]
    },
    {
      "cell_type": "code",
      "source": [
        "print(len(bads))"
      ],
      "metadata": {
        "colab": {
          "base_uri": "https://localhost:8080/"
        },
        "id": "Yjs8wiFCRqFq",
        "outputId": "1f950be7-5dc1-4ed4-c87a-aa312f8af46f"
      },
      "execution_count": null,
      "outputs": [
        {
          "output_type": "stream",
          "name": "stdout",
          "text": [
            "14393\n"
          ]
        }
      ]
    },
    {
      "cell_type": "code",
      "source": [
        "print('There is', round(len(goods)/len(data)*100,2), '% of good cases labeled in this dataset.')\n",
        "print('There is', round(len(bads)/len(data)*100,2), '% of bad cases labeled in this dataset.')"
      ],
      "metadata": {
        "colab": {
          "base_uri": "https://localhost:8080/"
        },
        "id": "o7OmOz8PR7Jf",
        "outputId": "5099f274-02e7-4c85-df9c-a76bf4cb95d5"
      },
      "execution_count": null,
      "outputs": [
        {
          "output_type": "stream",
          "name": "stdout",
          "text": [
            "There is 98.56 % of good cases labeled in this dataset.\n",
            "There is 1.44 % of bad cases labeled in this dataset.\n"
          ]
        }
      ]
    },
    {
      "cell_type": "code",
      "source": [
        "# To find unique values of each records\n",
        "print(len(data['record'].unique()))\n",
        "print(len(data['ssn'].unique()))\n",
        "print(len(data['firstname'].unique()))\n",
        "print(len(data['lastname'].unique()))\n",
        "print(len(data['address'].unique()))\n",
        "print(len(data['zip5'].unique()))\n",
        "print(len(data['homephone'].unique()))\n",
        "print(len(data['fraud_label'].unique()))"
      ],
      "metadata": {
        "colab": {
          "base_uri": "https://localhost:8080/"
        },
        "id": "DGugWZTNXaqO",
        "outputId": "9124a5b8-6b00-4d25-dcfb-619dee58e6c0"
      },
      "execution_count": null,
      "outputs": [
        {
          "output_type": "stream",
          "name": "stdout",
          "text": [
            "1000000\n",
            "835819\n",
            "78136\n",
            "177001\n",
            "828774\n",
            "26370\n",
            "28244\n",
            "2\n"
          ]
        }
      ]
    },
    {
      "cell_type": "code",
      "source": [
        "# To find most common value of each records\n",
        "# print(data['record'].mode())\n",
        "print(data['ssn'].mode())\n",
        "print(data['firstname'].mode())\n",
        "print(data['lastname'].mode())\n",
        "print(data['address'].mode())\n",
        "print(data['zip5'].mode())\n",
        "print(data['homephone'].mode())\n",
        "print(data['fraud_label'].mode())"
      ],
      "metadata": {
        "colab": {
          "base_uri": "https://localhost:8080/"
        },
        "id": "KtqDvtMcRIfT",
        "outputId": "85f2068a-b1b2-4fe9-c782-14c9548f7195"
      },
      "execution_count": null,
      "outputs": [
        {
          "output_type": "stream",
          "name": "stdout",
          "text": [
            "0    999999999\n",
            "dtype: int64\n",
            "0    EAMSTRMT\n",
            "dtype: object\n",
            "0    ERJSAXA\n",
            "dtype: object\n",
            "0    123 MAIN ST\n",
            "dtype: object\n",
            "0    68138\n",
            "dtype: int64\n",
            "0    9999999999\n",
            "dtype: int64\n",
            "0    0\n",
            "dtype: int64\n"
          ]
        }
      ]
    },
    {
      "cell_type": "code",
      "source": [
        "# Percentage populated for records - To verify if there is any record number missing\n",
        "len(data['record']) * 100 / numrecords"
      ],
      "metadata": {
        "colab": {
          "base_uri": "https://localhost:8080/"
        },
        "id": "EKRVJ0n8YD47",
        "outputId": "b13113f1-e93e-48d5-9cd5-e7d2bb2d0981"
      },
      "execution_count": null,
      "outputs": [
        {
          "output_type": "execute_result",
          "data": {
            "text/plain": [
              "100.0"
            ]
          },
          "metadata": {},
          "execution_count": 84
        }
      ]
    },
    {
      "cell_type": "code",
      "source": [
        "# Percentage populated for date - To verify if there is any date missing\n",
        "len(data['date']) * 100 / numrecords"
      ],
      "metadata": {
        "colab": {
          "base_uri": "https://localhost:8080/"
        },
        "id": "XeFCep1YZ68E",
        "outputId": "358cacd7-81fb-4242-87f6-b8e130fd9875"
      },
      "execution_count": null,
      "outputs": [
        {
          "output_type": "execute_result",
          "data": {
            "text/plain": [
              "100.0"
            ]
          },
          "metadata": {},
          "execution_count": 85
        }
      ]
    },
    {
      "cell_type": "code",
      "source": [
        "# To see if there are any missing dates\n",
        "len(data['date'].unique())"
      ],
      "metadata": {
        "colab": {
          "base_uri": "https://localhost:8080/"
        },
        "id": "c7btcRGZXxQn",
        "outputId": "2a9f16b7-a6ff-4a09-ef76-7d3f344d9161"
      },
      "execution_count": null,
      "outputs": [
        {
          "output_type": "execute_result",
          "data": {
            "text/plain": [
              "365"
            ]
          },
          "metadata": {},
          "execution_count": 86
        }
      ]
    },
    {
      "cell_type": "markdown",
      "source": [
        "# **Date & Records**"
      ],
      "metadata": {
        "id": "OMf_hyJ4X4Od"
      }
    },
    {
      "cell_type": "code",
      "source": [
        "# Grouped data by how many records in a day\n",
        "count_day = data.groupby('date').count()\n",
        "count_day"
      ],
      "metadata": {
        "colab": {
          "base_uri": "https://localhost:8080/",
          "height": 455
        },
        "id": "bxOwsaovaJdU",
        "outputId": "ece50e9f-e52d-44d8-cc30-ad13b668912f"
      },
      "execution_count": null,
      "outputs": [
        {
          "output_type": "execute_result",
          "data": {
            "text/plain": [
              "            record   ssn  firstname  lastname  address  zip5   dob  homephone  \\\n",
              "date                                                                            \n",
              "2017-01-01    2840  2840       2840      2840     2840  2840  2840       2840   \n",
              "2017-01-02    2719  2719       2719      2719     2719  2719  2719       2719   \n",
              "2017-01-03    2764  2764       2764      2764     2764  2764  2764       2764   \n",
              "2017-01-04    2757  2757       2757      2757     2757  2757  2757       2757   \n",
              "2017-01-05    2732  2732       2732      2732     2732  2732  2732       2732   \n",
              "...            ...   ...        ...       ...      ...   ...   ...        ...   \n",
              "2017-12-27    2718  2718       2718      2718     2718  2718  2718       2718   \n",
              "2017-12-28    2832  2832       2832      2832     2832  2832  2832       2832   \n",
              "2017-12-29    2767  2767       2767      2767     2767  2767  2767       2767   \n",
              "2017-12-30    2684  2684       2684      2684     2684  2684  2684       2684   \n",
              "2017-12-31    2814  2814       2814      2814     2814  2814  2814       2814   \n",
              "\n",
              "            fraud_label  \n",
              "date                     \n",
              "2017-01-01         2840  \n",
              "2017-01-02         2719  \n",
              "2017-01-03         2764  \n",
              "2017-01-04         2757  \n",
              "2017-01-05         2732  \n",
              "...                 ...  \n",
              "2017-12-27         2718  \n",
              "2017-12-28         2832  \n",
              "2017-12-29         2767  \n",
              "2017-12-30         2684  \n",
              "2017-12-31         2814  \n",
              "\n",
              "[365 rows x 9 columns]"
            ],
            "text/html": [
              "\n",
              "  <div id=\"df-05d7ebed-28e2-495c-beb3-473d3cbf2631\">\n",
              "    <div class=\"colab-df-container\">\n",
              "      <div>\n",
              "<style scoped>\n",
              "    .dataframe tbody tr th:only-of-type {\n",
              "        vertical-align: middle;\n",
              "    }\n",
              "\n",
              "    .dataframe tbody tr th {\n",
              "        vertical-align: top;\n",
              "    }\n",
              "\n",
              "    .dataframe thead th {\n",
              "        text-align: right;\n",
              "    }\n",
              "</style>\n",
              "<table border=\"1\" class=\"dataframe\">\n",
              "  <thead>\n",
              "    <tr style=\"text-align: right;\">\n",
              "      <th></th>\n",
              "      <th>record</th>\n",
              "      <th>ssn</th>\n",
              "      <th>firstname</th>\n",
              "      <th>lastname</th>\n",
              "      <th>address</th>\n",
              "      <th>zip5</th>\n",
              "      <th>dob</th>\n",
              "      <th>homephone</th>\n",
              "      <th>fraud_label</th>\n",
              "    </tr>\n",
              "    <tr>\n",
              "      <th>date</th>\n",
              "      <th></th>\n",
              "      <th></th>\n",
              "      <th></th>\n",
              "      <th></th>\n",
              "      <th></th>\n",
              "      <th></th>\n",
              "      <th></th>\n",
              "      <th></th>\n",
              "      <th></th>\n",
              "    </tr>\n",
              "  </thead>\n",
              "  <tbody>\n",
              "    <tr>\n",
              "      <th>2017-01-01</th>\n",
              "      <td>2840</td>\n",
              "      <td>2840</td>\n",
              "      <td>2840</td>\n",
              "      <td>2840</td>\n",
              "      <td>2840</td>\n",
              "      <td>2840</td>\n",
              "      <td>2840</td>\n",
              "      <td>2840</td>\n",
              "      <td>2840</td>\n",
              "    </tr>\n",
              "    <tr>\n",
              "      <th>2017-01-02</th>\n",
              "      <td>2719</td>\n",
              "      <td>2719</td>\n",
              "      <td>2719</td>\n",
              "      <td>2719</td>\n",
              "      <td>2719</td>\n",
              "      <td>2719</td>\n",
              "      <td>2719</td>\n",
              "      <td>2719</td>\n",
              "      <td>2719</td>\n",
              "    </tr>\n",
              "    <tr>\n",
              "      <th>2017-01-03</th>\n",
              "      <td>2764</td>\n",
              "      <td>2764</td>\n",
              "      <td>2764</td>\n",
              "      <td>2764</td>\n",
              "      <td>2764</td>\n",
              "      <td>2764</td>\n",
              "      <td>2764</td>\n",
              "      <td>2764</td>\n",
              "      <td>2764</td>\n",
              "    </tr>\n",
              "    <tr>\n",
              "      <th>2017-01-04</th>\n",
              "      <td>2757</td>\n",
              "      <td>2757</td>\n",
              "      <td>2757</td>\n",
              "      <td>2757</td>\n",
              "      <td>2757</td>\n",
              "      <td>2757</td>\n",
              "      <td>2757</td>\n",
              "      <td>2757</td>\n",
              "      <td>2757</td>\n",
              "    </tr>\n",
              "    <tr>\n",
              "      <th>2017-01-05</th>\n",
              "      <td>2732</td>\n",
              "      <td>2732</td>\n",
              "      <td>2732</td>\n",
              "      <td>2732</td>\n",
              "      <td>2732</td>\n",
              "      <td>2732</td>\n",
              "      <td>2732</td>\n",
              "      <td>2732</td>\n",
              "      <td>2732</td>\n",
              "    </tr>\n",
              "    <tr>\n",
              "      <th>...</th>\n",
              "      <td>...</td>\n",
              "      <td>...</td>\n",
              "      <td>...</td>\n",
              "      <td>...</td>\n",
              "      <td>...</td>\n",
              "      <td>...</td>\n",
              "      <td>...</td>\n",
              "      <td>...</td>\n",
              "      <td>...</td>\n",
              "    </tr>\n",
              "    <tr>\n",
              "      <th>2017-12-27</th>\n",
              "      <td>2718</td>\n",
              "      <td>2718</td>\n",
              "      <td>2718</td>\n",
              "      <td>2718</td>\n",
              "      <td>2718</td>\n",
              "      <td>2718</td>\n",
              "      <td>2718</td>\n",
              "      <td>2718</td>\n",
              "      <td>2718</td>\n",
              "    </tr>\n",
              "    <tr>\n",
              "      <th>2017-12-28</th>\n",
              "      <td>2832</td>\n",
              "      <td>2832</td>\n",
              "      <td>2832</td>\n",
              "      <td>2832</td>\n",
              "      <td>2832</td>\n",
              "      <td>2832</td>\n",
              "      <td>2832</td>\n",
              "      <td>2832</td>\n",
              "      <td>2832</td>\n",
              "    </tr>\n",
              "    <tr>\n",
              "      <th>2017-12-29</th>\n",
              "      <td>2767</td>\n",
              "      <td>2767</td>\n",
              "      <td>2767</td>\n",
              "      <td>2767</td>\n",
              "      <td>2767</td>\n",
              "      <td>2767</td>\n",
              "      <td>2767</td>\n",
              "      <td>2767</td>\n",
              "      <td>2767</td>\n",
              "    </tr>\n",
              "    <tr>\n",
              "      <th>2017-12-30</th>\n",
              "      <td>2684</td>\n",
              "      <td>2684</td>\n",
              "      <td>2684</td>\n",
              "      <td>2684</td>\n",
              "      <td>2684</td>\n",
              "      <td>2684</td>\n",
              "      <td>2684</td>\n",
              "      <td>2684</td>\n",
              "      <td>2684</td>\n",
              "    </tr>\n",
              "    <tr>\n",
              "      <th>2017-12-31</th>\n",
              "      <td>2814</td>\n",
              "      <td>2814</td>\n",
              "      <td>2814</td>\n",
              "      <td>2814</td>\n",
              "      <td>2814</td>\n",
              "      <td>2814</td>\n",
              "      <td>2814</td>\n",
              "      <td>2814</td>\n",
              "      <td>2814</td>\n",
              "    </tr>\n",
              "  </tbody>\n",
              "</table>\n",
              "<p>365 rows × 9 columns</p>\n",
              "</div>\n",
              "      <button class=\"colab-df-convert\" onclick=\"convertToInteractive('df-05d7ebed-28e2-495c-beb3-473d3cbf2631')\"\n",
              "              title=\"Convert this dataframe to an interactive table.\"\n",
              "              style=\"display:none;\">\n",
              "        \n",
              "  <svg xmlns=\"http://www.w3.org/2000/svg\" height=\"24px\"viewBox=\"0 0 24 24\"\n",
              "       width=\"24px\">\n",
              "    <path d=\"M0 0h24v24H0V0z\" fill=\"none\"/>\n",
              "    <path d=\"M18.56 5.44l.94 2.06.94-2.06 2.06-.94-2.06-.94-.94-2.06-.94 2.06-2.06.94zm-11 1L8.5 8.5l.94-2.06 2.06-.94-2.06-.94L8.5 2.5l-.94 2.06-2.06.94zm10 10l.94 2.06.94-2.06 2.06-.94-2.06-.94-.94-2.06-.94 2.06-2.06.94z\"/><path d=\"M17.41 7.96l-1.37-1.37c-.4-.4-.92-.59-1.43-.59-.52 0-1.04.2-1.43.59L10.3 9.45l-7.72 7.72c-.78.78-.78 2.05 0 2.83L4 21.41c.39.39.9.59 1.41.59.51 0 1.02-.2 1.41-.59l7.78-7.78 2.81-2.81c.8-.78.8-2.07 0-2.86zM5.41 20L4 18.59l7.72-7.72 1.47 1.35L5.41 20z\"/>\n",
              "  </svg>\n",
              "      </button>\n",
              "      \n",
              "  <style>\n",
              "    .colab-df-container {\n",
              "      display:flex;\n",
              "      flex-wrap:wrap;\n",
              "      gap: 12px;\n",
              "    }\n",
              "\n",
              "    .colab-df-convert {\n",
              "      background-color: #E8F0FE;\n",
              "      border: none;\n",
              "      border-radius: 50%;\n",
              "      cursor: pointer;\n",
              "      display: none;\n",
              "      fill: #1967D2;\n",
              "      height: 32px;\n",
              "      padding: 0 0 0 0;\n",
              "      width: 32px;\n",
              "    }\n",
              "\n",
              "    .colab-df-convert:hover {\n",
              "      background-color: #E2EBFA;\n",
              "      box-shadow: 0px 1px 2px rgba(60, 64, 67, 0.3), 0px 1px 3px 1px rgba(60, 64, 67, 0.15);\n",
              "      fill: #174EA6;\n",
              "    }\n",
              "\n",
              "    [theme=dark] .colab-df-convert {\n",
              "      background-color: #3B4455;\n",
              "      fill: #D2E3FC;\n",
              "    }\n",
              "\n",
              "    [theme=dark] .colab-df-convert:hover {\n",
              "      background-color: #434B5C;\n",
              "      box-shadow: 0px 1px 3px 1px rgba(0, 0, 0, 0.15);\n",
              "      filter: drop-shadow(0px 1px 2px rgba(0, 0, 0, 0.3));\n",
              "      fill: #FFFFFF;\n",
              "    }\n",
              "  </style>\n",
              "\n",
              "      <script>\n",
              "        const buttonEl =\n",
              "          document.querySelector('#df-05d7ebed-28e2-495c-beb3-473d3cbf2631 button.colab-df-convert');\n",
              "        buttonEl.style.display =\n",
              "          google.colab.kernel.accessAllowed ? 'block' : 'none';\n",
              "\n",
              "        async function convertToInteractive(key) {\n",
              "          const element = document.querySelector('#df-05d7ebed-28e2-495c-beb3-473d3cbf2631');\n",
              "          const dataTable =\n",
              "            await google.colab.kernel.invokeFunction('convertToInteractive',\n",
              "                                                     [key], {});\n",
              "          if (!dataTable) return;\n",
              "\n",
              "          const docLinkHtml = 'Like what you see? Visit the ' +\n",
              "            '<a target=\"_blank\" href=https://colab.research.google.com/notebooks/data_table.ipynb>data table notebook</a>'\n",
              "            + ' to learn more about interactive tables.';\n",
              "          element.innerHTML = '';\n",
              "          dataTable['output_type'] = 'display_data';\n",
              "          await google.colab.output.renderOutput(dataTable, element);\n",
              "          const docLink = document.createElement('div');\n",
              "          docLink.innerHTML = docLinkHtml;\n",
              "          element.appendChild(docLink);\n",
              "        }\n",
              "      </script>\n",
              "    </div>\n",
              "  </div>\n",
              "  "
            ]
          },
          "metadata": {},
          "execution_count": 87
        }
      ]
    },
    {
      "cell_type": "code",
      "source": [
        "# Grouping by months\n",
        "data['date'] = pd.to_datetime(data['date'],format='%Y%m%d')\n",
        "count_months = data.groupby(pd.Grouper(key='date',freq='M')).count()"
      ],
      "metadata": {
        "id": "_GLmFC-t0VrN"
      },
      "execution_count": null,
      "outputs": []
    },
    {
      "cell_type": "code",
      "source": [
        "# Count the number of daily applications and plot it as a time series\n",
        "daily_count = data.assign(trx = np.ones(numrecords)).set_index(data['date']).resample(dt.timedelta(days = 1))\\\n",
        "    .count().trx\n",
        "daily_count.plot(title = 'Daily Applications')"
      ],
      "metadata": {
        "colab": {
          "base_uri": "https://localhost:8080/",
          "height": 325
        },
        "id": "X5lsTc4qcxoV",
        "outputId": "45225673-0c1f-4bff-8b93-58e94487f587"
      },
      "execution_count": null,
      "outputs": [
        {
          "output_type": "execute_result",
          "data": {
            "text/plain": [
              "<matplotlib.axes._subplots.AxesSubplot at 0x7f5c66c3f0a0>"
            ]
          },
          "metadata": {},
          "execution_count": 89
        },
        {
          "output_type": "display_data",
          "data": {
            "text/plain": [
              "<Figure size 432x288 with 1 Axes>"
            ],
            "image/png": "[encoded data removed]"
          },
          "metadata": {
            "needs_background": "light"
          }
        }
      ]
    },
    {
      "cell_type": "code",
      "source": [
        "# Plotting adjusted graph ver 1\n",
        "daily_count.plot(figsize = (15, 6), \n",
        "                 title = 'Daily Applications',\n",
        "                 color = 'slategrey', linewidth = 1,\n",
        "                 ylabel = 'Count of applications',\n",
        "                 xlabel = 'Months')\n",
        "\n",
        "plt.title(\"Month-on-Month Trend of Daily Applications\", fontsize = 20, fontweight = 'bold')"
      ],
      "metadata": {
        "colab": {
          "base_uri": "https://localhost:8080/",
          "height": 439
        },
        "id": "R5fybCKheY05",
        "outputId": "f45e69ed-05d3-4c11-ac56-8d7a2ea8eddb"
      },
      "execution_count": null,
      "outputs": [
        {
          "output_type": "execute_result",
          "data": {
            "text/plain": [
              "Text(0.5, 1.0, 'Month-on-Month Trend of Daily Applications')"
            ]
          },
          "metadata": {},
          "execution_count": 103
        },
        {
          "output_type": "display_data",
          "data": {
            "text/plain": [
              "<Figure size 1080x432 with 1 Axes>"
            ],
            "image/png": "[encoded data removed]"
          },
          "metadata": {
            "needs_background": "light"
          }
        }
      ]
    },
    {
      "cell_type": "code",
      "source": [
        "# Combining all in one - too complicated \n",
        "\n",
        "# Overall Applications\n",
        "fig, ax1 = plt.subplots(figsize = (15, 6))\n",
        "daily_count.plot(ax=ax1, color = 'slategrey', linewidth = 1, label = 'Overall Applications')\n",
        "ax1.set_ylabel('Count of applications')\n",
        "ax1.set_xlabel('Months')\n",
        "\n",
        "# Normalized Good and Bad Application \n",
        "ax2 = ax1.twinx()\n",
        "\n",
        "# Plotting bad series \n",
        "bads_series = bads.assign(trx = np.ones(nbads)).set_index(bads['date']).resample(dt.timedelta(days = 1)).count().trx\n",
        "norm_bads_series = bads_series / nbads\n",
        "norm_bads_series.plot(ax=ax2, color = 'tomato', alpha = 0.6, label = 'Bad Applications')\n",
        "\n",
        "# Plotting good series\n",
        "goods_series = goods.assign(trx = np.ones(ngoods)).set_index(goods['date']).resample(dt.timedelta(days = 1)).count().trx\n",
        "norm_goods_series = goods_series / ngoods\n",
        "norm_goods_series.plot(ax=ax2, color = 'darkseagreen', alpha = 0.6, label = 'Good Applications')\n",
        "ax2.set_ylabel('Frequency (Normalized)')\n",
        "\n",
        "plt.title(\"Daily Frequency of Good and Bad Applications\", fontsize = 15, fontweight = 'bold')\n",
        "plt.legend(loc = 'best', fontsize = 10)\n",
        "plt.show()"
      ],
      "metadata": {
        "colab": {
          "base_uri": "https://localhost:8080/",
          "height": 418
        },
        "id": "kTjVVmS749nm",
        "outputId": "b12088e4-e991-4bfc-82f6-b39c411c2752"
      },
      "execution_count": null,
      "outputs": [
        {
          "output_type": "display_data",
          "data": {
            "text/plain": [
              "<Figure size 1080x432 with 2 Axes>"
            ],
            "image/png": "[encoded data removed]"
          },
          "metadata": {
            "needs_background": "light"
          }
        }
      ]
    },
    {
      "cell_type": "markdown",
      "source": [
        "# **SSN**"
      ],
      "metadata": {
        "id": "EZnSwROrX-3W"
      }
    },
    {
      "cell_type": "code",
      "source": [
        "# To find how many percent of ssn records are populated\n",
        "len(data['ssn']) * 100 / numrecords"
      ],
      "metadata": {
        "colab": {
          "base_uri": "https://localhost:8080/"
        },
        "id": "pLHbvsjyhv7c",
        "outputId": "99ed816f-afeb-43a8-c299-cc353ac5c285"
      },
      "execution_count": null,
      "outputs": [
        {
          "output_type": "execute_result",
          "data": {
            "text/plain": [
              "100.0"
            ]
          },
          "metadata": {},
          "execution_count": 93
        }
      ]
    },
    {
      "cell_type": "code",
      "source": [
        "# To find unique values for SSN records\n",
        "len(data['ssn'].unique())"
      ],
      "metadata": {
        "colab": {
          "base_uri": "https://localhost:8080/"
        },
        "id": "-uljabEJeZts",
        "outputId": "bc7c4d25-7fb8-4629-cd54-0598d7032992"
      },
      "execution_count": null,
      "outputs": [
        {
          "output_type": "execute_result",
          "data": {
            "text/plain": [
              "835819"
            ]
          },
          "metadata": {},
          "execution_count": 94
        }
      ]
    },
    {
      "cell_type": "code",
      "source": [
        "# To group SSN and find count of each\n",
        "data['ssn'].value_counts()"
      ],
      "metadata": {
        "colab": {
          "base_uri": "https://localhost:8080/"
        },
        "id": "6RYSpzlKYPFG",
        "outputId": "e96f0f17-3616-423e-c8f3-ccf9f7ace1a2"
      },
      "execution_count": null,
      "outputs": [
        {
          "output_type": "execute_result",
          "data": {
            "text/plain": [
              "999999999    16935\n",
              "938972725      114\n",
              "810776805       81\n",
              "829352390       74\n",
              "473311863       44\n",
              "             ...  \n",
              "571979227        1\n",
              "154696808        1\n",
              "962389432        1\n",
              "746697518        1\n",
              "361232148        1\n",
              "Name: ssn, Length: 835819, dtype: int64"
            ]
          },
          "metadata": {},
          "execution_count": 95
        }
      ]
    },
    {
      "cell_type": "code",
      "source": [
        "# Storing ssn_grouped into a variable\n",
        "ssn_grouped = data['ssn'].value_counts().head(20)"
      ],
      "metadata": {
        "id": "5BI7mhhWYr6K"
      },
      "execution_count": null,
      "outputs": []
    },
    {
      "cell_type": "code",
      "source": [
        "ssn_grouped.plot(kind='bar',logy=True, \n",
        "                 figsize = (7, 4),\n",
        "                 color = 'slategrey',\n",
        "                 ylabel = 'Count (hundredth)',\n",
        "                 xlabel = 'SSN')\n",
        "\n",
        "plt.title(\"Most Common Value of SSN\", fontsize = 15, fontweight = 'bold')"
      ],
      "metadata": {
        "colab": {
          "base_uri": "https://localhost:8080/",
          "height": 363
        },
        "id": "05JtqyoqYUvN",
        "outputId": "2bec34d7-74b1-476c-f5df-e7e8845e03fe"
      },
      "execution_count": null,
      "outputs": [
        {
          "output_type": "execute_result",
          "data": {
            "text/plain": [
              "Text(0.5, 1.0, 'Most Common Value of SSN')"
            ]
          },
          "metadata": {},
          "execution_count": 98
        },
        {
          "output_type": "display_data",
          "data": {
            "text/plain": [
              "<Figure size 504x288 with 1 Axes>"
            ],
            "image/png": "[encoded data removed]"
          },
          "metadata": {
            "needs_background": "light"
          }
        }
      ]
    },
    {
      "cell_type": "markdown",
      "source": [
        "# **D.O.B**"
      ],
      "metadata": {
        "id": "GTrKpZqUbXOB"
      }
    },
    {
      "cell_type": "code",
      "source": [
        "#Grouping datas into year\n",
        "data['dob'] = pd.to_datetime(data['dob'],format='%Y%m%d')\n",
        "\n",
        "# Sorted by DOB\n",
        "count_years = data.groupby(pd.Grouper(key='dob',freq='Y')).count()\n",
        "count_years"
      ],
      "metadata": {
        "colab": {
          "base_uri": "https://localhost:8080/",
          "height": 455
        },
        "id": "r4_rKy9lbXca",
        "outputId": "245d66a3-7240-4712-94e4-25b49510483b"
      },
      "execution_count": null,
      "outputs": [
        {
          "output_type": "execute_result",
          "data": {
            "text/plain": [
              "            record  date   ssn  firstname  lastname  address  zip5  homephone  \\\n",
              "dob                                                                             \n",
              "1900-12-31    7195  7195  7195       7195      7195     7195  7195       7195   \n",
              "1901-12-31    7343  7343  7343       7343      7343     7343  7343       7343   \n",
              "1902-12-31    7484  7484  7484       7484      7484     7484  7484       7484   \n",
              "1903-12-31    7237  7237  7237       7237      7237     7237  7237       7237   \n",
              "1904-12-31    7537  7537  7537       7537      7537     7537  7537       7537   \n",
              "...            ...   ...   ...        ...       ...      ...   ...        ...   \n",
              "2012-12-31    7328  7328  7328       7328      7328     7328  7328       7328   \n",
              "2013-12-31    7450  7450  7450       7450      7450     7450  7450       7450   \n",
              "2014-12-31    7277  7277  7277       7277      7277     7277  7277       7277   \n",
              "2015-12-31    7460  7460  7460       7460      7460     7460  7460       7460   \n",
              "2016-12-31    6284  6284  6284       6284      6284     6284  6284       6284   \n",
              "\n",
              "            fraud_label  \n",
              "dob                      \n",
              "1900-12-31         7195  \n",
              "1901-12-31         7343  \n",
              "1902-12-31         7484  \n",
              "1903-12-31         7237  \n",
              "1904-12-31         7537  \n",
              "...                 ...  \n",
              "2012-12-31         7328  \n",
              "2013-12-31         7450  \n",
              "2014-12-31         7277  \n",
              "2015-12-31         7460  \n",
              "2016-12-31         6284  \n",
              "\n",
              "[117 rows x 9 columns]"
            ],
            "text/html": [
              "\n",
              "  <div id=\"df-3265b555-08f4-47a0-a77c-a9c3bd6371a7\">\n",
              "    <div class=\"colab-df-container\">\n",
              "      <div>\n",
              "<style scoped>\n",
              "    .dataframe tbody tr th:only-of-type {\n",
              "        vertical-align: middle;\n",
              "    }\n",
              "\n",
              "    .dataframe tbody tr th {\n",
              "        vertical-align: top;\n",
              "    }\n",
              "\n",
              "    .dataframe thead th {\n",
              "        text-align: right;\n",
              "    }\n",
              "</style>\n",
              "<table border=\"1\" class=\"dataframe\">\n",
              "  <thead>\n",
              "    <tr style=\"text-align: right;\">\n",
              "      <th></th>\n",
              "      <th>record</th>\n",
              "      <th>date</th>\n",
              "      <th>ssn</th>\n",
              "      <th>firstname</th>\n",
              "      <th>lastname</th>\n",
              "      <th>address</th>\n",
              "      <th>zip5</th>\n",
              "      <th>homephone</th>\n",
              "      <th>fraud_label</th>\n",
              "    </tr>\n",
              "    <tr>\n",
              "      <th>dob</th>\n",
              "      <th></th>\n",
              "      <th></th>\n",
              "      <th></th>\n",
              "      <th></th>\n",
              "      <th></th>\n",
              "      <th></th>\n",
              "      <th></th>\n",
              "      <th></th>\n",
              "      <th></th>\n",
              "    </tr>\n",
              "  </thead>\n",
              "  <tbody>\n",
              "    <tr>\n",
              "      <th>1900-12-31</th>\n",
              "      <td>7195</td>\n",
              "      <td>7195</td>\n",
              "      <td>7195</td>\n",
              "      <td>7195</td>\n",
              "      <td>7195</td>\n",
              "      <td>7195</td>\n",
              "      <td>7195</td>\n",
              "      <td>7195</td>\n",
              "      <td>7195</td>\n",
              "    </tr>\n",
              "    <tr>\n",
              "      <th>1901-12-31</th>\n",
              "      <td>7343</td>\n",
              "      <td>7343</td>\n",
              "      <td>7343</td>\n",
              "      <td>7343</td>\n",
              "      <td>7343</td>\n",
              "      <td>7343</td>\n",
              "      <td>7343</td>\n",
              "      <td>7343</td>\n",
              "      <td>7343</td>\n",
              "    </tr>\n",
              "    <tr>\n",
              "      <th>1902-12-31</th>\n",
              "      <td>7484</td>\n",
              "      <td>7484</td>\n",
              "      <td>7484</td>\n",
              "      <td>7484</td>\n",
              "      <td>7484</td>\n",
              "      <td>7484</td>\n",
              "      <td>7484</td>\n",
              "      <td>7484</td>\n",
              "      <td>7484</td>\n",
              "    </tr>\n",
              "    <tr>\n",
              "      <th>1903-12-31</th>\n",
              "      <td>7237</td>\n",
              "      <td>7237</td>\n",
              "      <td>7237</td>\n",
              "      <td>7237</td>\n",
              "      <td>7237</td>\n",
              "      <td>7237</td>\n",
              "      <td>7237</td>\n",
              "      <td>7237</td>\n",
              "      <td>7237</td>\n",
              "    </tr>\n",
              "    <tr>\n",
              "      <th>1904-12-31</th>\n",
              "      <td>7537</td>\n",
              "      <td>7537</td>\n",
              "      <td>7537</td>\n",
              "      <td>7537</td>\n",
              "      <td>7537</td>\n",
              "      <td>7537</td>\n",
              "      <td>7537</td>\n",
              "      <td>7537</td>\n",
              "      <td>7537</td>\n",
              "    </tr>\n",
              "    <tr>\n",
              "      <th>...</th>\n",
              "      <td>...</td>\n",
              "      <td>...</td>\n",
              "      <td>...</td>\n",
              "      <td>...</td>\n",
              "      <td>...</td>\n",
              "      <td>...</td>\n",
              "      <td>...</td>\n",
              "      <td>...</td>\n",
              "      <td>...</td>\n",
              "    </tr>\n",
              "    <tr>\n",
              "      <th>2012-12-31</th>\n",
              "      <td>7328</td>\n",
              "      <td>7328</td>\n",
              "      <td>7328</td>\n",
              "      <td>7328</td>\n",
              "      <td>7328</td>\n",
              "      <td>7328</td>\n",
              "      <td>7328</td>\n",
              "      <td>7328</td>\n",
              "      <td>7328</td>\n",
              "    </tr>\n",
              "    <tr>\n",
              "      <th>2013-12-31</th>\n",
              "      <td>7450</td>\n",
              "      <td>7450</td>\n",
              "      <td>7450</td>\n",
              "      <td>7450</td>\n",
              "      <td>7450</td>\n",
              "      <td>7450</td>\n",
              "      <td>7450</td>\n",
              "      <td>7450</td>\n",
              "      <td>7450</td>\n",
              "    </tr>\n",
              "    <tr>\n",
              "      <th>2014-12-31</th>\n",
              "      <td>7277</td>\n",
              "      <td>7277</td>\n",
              "      <td>7277</td>\n",
              "      <td>7277</td>\n",
              "      <td>7277</td>\n",
              "      <td>7277</td>\n",
              "      <td>7277</td>\n",
              "      <td>7277</td>\n",
              "      <td>7277</td>\n",
              "    </tr>\n",
              "    <tr>\n",
              "      <th>2015-12-31</th>\n",
              "      <td>7460</td>\n",
              "      <td>7460</td>\n",
              "      <td>7460</td>\n",
              "      <td>7460</td>\n",
              "      <td>7460</td>\n",
              "      <td>7460</td>\n",
              "      <td>7460</td>\n",
              "      <td>7460</td>\n",
              "      <td>7460</td>\n",
              "    </tr>\n",
              "    <tr>\n",
              "      <th>2016-12-31</th>\n",
              "      <td>6284</td>\n",
              "      <td>6284</td>\n",
              "      <td>6284</td>\n",
              "      <td>6284</td>\n",
              "      <td>6284</td>\n",
              "      <td>6284</td>\n",
              "      <td>6284</td>\n",
              "      <td>6284</td>\n",
              "      <td>6284</td>\n",
              "    </tr>\n",
              "  </tbody>\n",
              "</table>\n",
              "<p>117 rows × 9 columns</p>\n",
              "</div>\n",
              "      <button class=\"colab-df-convert\" onclick=\"convertToInteractive('df-3265b555-08f4-47a0-a77c-a9c3bd6371a7')\"\n",
              "              title=\"Convert this dataframe to an interactive table.\"\n",
              "              style=\"display:none;\">\n",
              "        \n",
              "  <svg xmlns=\"http://www.w3.org/2000/svg\" height=\"24px\"viewBox=\"0 0 24 24\"\n",
              "       width=\"24px\">\n",
              "    <path d=\"M0 0h24v24H0V0z\" fill=\"none\"/>\n",
              "    <path d=\"M18.56 5.44l.94 2.06.94-2.06 2.06-.94-2.06-.94-.94-2.06-.94 2.06-2.06.94zm-11 1L8.5 8.5l.94-2.06 2.06-.94-2.06-.94L8.5 2.5l-.94 2.06-2.06.94zm10 10l.94 2.06.94-2.06 2.06-.94-2.06-.94-.94-2.06-.94 2.06-2.06.94z\"/><path d=\"M17.41 7.96l-1.37-1.37c-.4-.4-.92-.59-1.43-.59-.52 0-1.04.2-1.43.59L10.3 9.45l-7.72 7.72c-.78.78-.78 2.05 0 2.83L4 21.41c.39.39.9.59 1.41.59.51 0 1.02-.2 1.41-.59l7.78-7.78 2.81-2.81c.8-.78.8-2.07 0-2.86zM5.41 20L4 18.59l7.72-7.72 1.47 1.35L5.41 20z\"/>\n",
              "  </svg>\n",
              "      </button>\n",
              "      \n",
              "  <style>\n",
              "    .colab-df-container {\n",
              "      display:flex;\n",
              "      flex-wrap:wrap;\n",
              "      gap: 12px;\n",
              "    }\n",
              "\n",
              "    .colab-df-convert {\n",
              "      background-color: #E8F0FE;\n",
              "      border: none;\n",
              "      border-radius: 50%;\n",
              "      cursor: pointer;\n",
              "      display: none;\n",
              "      fill: #1967D2;\n",
              "      height: 32px;\n",
              "      padding: 0 0 0 0;\n",
              "      width: 32px;\n",
              "    }\n",
              "\n",
              "    .colab-df-convert:hover {\n",
              "      background-color: #E2EBFA;\n",
              "      box-shadow: 0px 1px 2px rgba(60, 64, 67, 0.3), 0px 1px 3px 1px rgba(60, 64, 67, 0.15);\n",
              "      fill: #174EA6;\n",
              "    }\n",
              "\n",
              "    [theme=dark] .colab-df-convert {\n",
              "      background-color: #3B4455;\n",
              "      fill: #D2E3FC;\n",
              "    }\n",
              "\n",
              "    [theme=dark] .colab-df-convert:hover {\n",
              "      background-color: #434B5C;\n",
              "      box-shadow: 0px 1px 3px 1px rgba(0, 0, 0, 0.15);\n",
              "      filter: drop-shadow(0px 1px 2px rgba(0, 0, 0, 0.3));\n",
              "      fill: #FFFFFF;\n",
              "    }\n",
              "  </style>\n",
              "\n",
              "      <script>\n",
              "        const buttonEl =\n",
              "          document.querySelector('#df-3265b555-08f4-47a0-a77c-a9c3bd6371a7 button.colab-df-convert');\n",
              "        buttonEl.style.display =\n",
              "          google.colab.kernel.accessAllowed ? 'block' : 'none';\n",
              "\n",
              "        async function convertToInteractive(key) {\n",
              "          const element = document.querySelector('#df-3265b555-08f4-47a0-a77c-a9c3bd6371a7');\n",
              "          const dataTable =\n",
              "            await google.colab.kernel.invokeFunction('convertToInteractive',\n",
              "                                                     [key], {});\n",
              "          if (!dataTable) return;\n",
              "\n",
              "          const docLinkHtml = 'Like what you see? Visit the ' +\n",
              "            '<a target=\"_blank\" href=https://colab.research.google.com/notebooks/data_table.ipynb>data table notebook</a>'\n",
              "            + ' to learn more about interactive tables.';\n",
              "          element.innerHTML = '';\n",
              "          dataTable['output_type'] = 'display_data';\n",
              "          await google.colab.output.renderOutput(dataTable, element);\n",
              "          const docLink = document.createElement('div');\n",
              "          docLink.innerHTML = docLinkHtml;\n",
              "          element.appendChild(docLink);\n",
              "        }\n",
              "      </script>\n",
              "    </div>\n",
              "  </div>\n",
              "  "
            ]
          },
          "metadata": {},
          "execution_count": 99
        }
      ]
    },
    {
      "cell_type": "code",
      "source": [
        "years_grouped = count_years.sort_values(by = ['record'], ascending=False)\n",
        "years_grouped.head()"
      ],
      "metadata": {
        "colab": {
          "base_uri": "https://localhost:8080/",
          "height": 238
        },
        "id": "q_UNkRCAd4iG",
        "outputId": "78c06679-bf1a-4ac4-8da9-1cb0526af199"
      },
      "execution_count": null,
      "outputs": [
        {
          "output_type": "execute_result",
          "data": {
            "text/plain": [
              "            record    date     ssn  firstname  lastname  address    zip5  \\\n",
              "dob                                                                        \n",
              "1907-12-31  133986  133986  133986     133986    133986   133986  133986   \n",
              "1964-12-31   12254   12254   12254      12254     12254    12254   12254   \n",
              "1976-12-31   11152   11152   11152      11152     11152    11152   11152   \n",
              "1988-12-31    8664    8664    8664       8664      8664     8664    8664   \n",
              "1974-12-31    8385    8385    8385       8385      8385     8385    8385   \n",
              "\n",
              "            homephone  fraud_label  \n",
              "dob                                 \n",
              "1907-12-31     133986       133986  \n",
              "1964-12-31      12254        12254  \n",
              "1976-12-31      11152        11152  \n",
              "1988-12-31       8664         8664  \n",
              "1974-12-31       8385         8385  "
            ],
            "text/html": [
              "\n",
              "  <div id=\"df-a96a4dba-4d88-4b5f-a56c-0c55166a8936\">\n",
              "    <div class=\"colab-df-container\">\n",
              "      <div>\n",
              "<style scoped>\n",
              "    .dataframe tbody tr th:only-of-type {\n",
              "        vertical-align: middle;\n",
              "    }\n",
              "\n",
              "    .dataframe tbody tr th {\n",
              "        vertical-align: top;\n",
              "    }\n",
              "\n",
              "    .dataframe thead th {\n",
              "        text-align: right;\n",
              "    }\n",
              "</style>\n",
              "<table border=\"1\" class=\"dataframe\">\n",
              "  <thead>\n",
              "    <tr style=\"text-align: right;\">\n",
              "      <th></th>\n",
              "      <th>record</th>\n",
              "      <th>date</th>\n",
              "      <th>ssn</th>\n",
              "      <th>firstname</th>\n",
              "      <th>lastname</th>\n",
              "      <th>address</th>\n",
              "      <th>zip5</th>\n",
              "      <th>homephone</th>\n",
              "      <th>fraud_label</th>\n",
              "    </tr>\n",
              "    <tr>\n",
              "      <th>dob</th>\n",
              "      <th></th>\n",
              "      <th></th>\n",
              "      <th></th>\n",
              "      <th></th>\n",
              "      <th></th>\n",
              "      <th></th>\n",
              "      <th></th>\n",
              "      <th></th>\n",
              "      <th></th>\n",
              "    </tr>\n",
              "  </thead>\n",
              "  <tbody>\n",
              "    <tr>\n",
              "      <th>1907-12-31</th>\n",
              "      <td>133986</td>\n",
              "      <td>133986</td>\n",
              "      <td>133986</td>\n",
              "      <td>133986</td>\n",
              "      <td>133986</td>\n",
              "      <td>133986</td>\n",
              "      <td>133986</td>\n",
              "      <td>133986</td>\n",
              "      <td>133986</td>\n",
              "    </tr>\n",
              "    <tr>\n",
              "      <th>1964-12-31</th>\n",
              "      <td>12254</td>\n",
              "      <td>12254</td>\n",
              "      <td>12254</td>\n",
              "      <td>12254</td>\n",
              "      <td>12254</td>\n",
              "      <td>12254</td>\n",
              "      <td>12254</td>\n",
              "      <td>12254</td>\n",
              "      <td>12254</td>\n",
              "    </tr>\n",
              "    <tr>\n",
              "      <th>1976-12-31</th>\n",
              "      <td>11152</td>\n",
              "      <td>11152</td>\n",
              "      <td>11152</td>\n",
              "      <td>11152</td>\n",
              "      <td>11152</td>\n",
              "      <td>11152</td>\n",
              "      <td>11152</td>\n",
              "      <td>11152</td>\n",
              "      <td>11152</td>\n",
              "    </tr>\n",
              "    <tr>\n",
              "      <th>1988-12-31</th>\n",
              "      <td>8664</td>\n",
              "      <td>8664</td>\n",
              "      <td>8664</td>\n",
              "      <td>8664</td>\n",
              "      <td>8664</td>\n",
              "      <td>8664</td>\n",
              "      <td>8664</td>\n",
              "      <td>8664</td>\n",
              "      <td>8664</td>\n",
              "    </tr>\n",
              "    <tr>\n",
              "      <th>1974-12-31</th>\n",
              "      <td>8385</td>\n",
              "      <td>8385</td>\n",
              "      <td>8385</td>\n",
              "      <td>8385</td>\n",
              "      <td>8385</td>\n",
              "      <td>8385</td>\n",
              "      <td>8385</td>\n",
              "      <td>8385</td>\n",
              "      <td>8385</td>\n",
              "    </tr>\n",
              "  </tbody>\n",
              "</table>\n",
              "</div>\n",
              "      <button class=\"colab-df-convert\" onclick=\"convertToInteractive('df-a96a4dba-4d88-4b5f-a56c-0c55166a8936')\"\n",
              "              title=\"Convert this dataframe to an interactive table.\"\n",
              "              style=\"display:none;\">\n",
              "        \n",
              "  <svg xmlns=\"http://www.w3.org/2000/svg\" height=\"24px\"viewBox=\"0 0 24 24\"\n",
              "       width=\"24px\">\n",
              "    <path d=\"M0 0h24v24H0V0z\" fill=\"none\"/>\n",
              "    <path d=\"M18.56 5.44l.94 2.06.94-2.06 2.06-.94-2.06-.94-.94-2.06-.94 2.06-2.06.94zm-11 1L8.5 8.5l.94-2.06 2.06-.94-2.06-.94L8.5 2.5l-.94 2.06-2.06.94zm10 10l.94 2.06.94-2.06 2.06-.94-2.06-.94-.94-2.06-.94 2.06-2.06.94z\"/><path d=\"M17.41 7.96l-1.37-1.37c-.4-.4-.92-.59-1.43-.59-.52 0-1.04.2-1.43.59L10.3 9.45l-7.72 7.72c-.78.78-.78 2.05 0 2.83L4 21.41c.39.39.9.59 1.41.59.51 0 1.02-.2 1.41-.59l7.78-7.78 2.81-2.81c.8-.78.8-2.07 0-2.86zM5.41 20L4 18.59l7.72-7.72 1.47 1.35L5.41 20z\"/>\n",
              "  </svg>\n",
              "      </button>\n",
              "      \n",
              "  <style>\n",
              "    .colab-df-container {\n",
              "      display:flex;\n",
              "      flex-wrap:wrap;\n",
              "      gap: 12px;\n",
              "    }\n",
              "\n",
              "    .colab-df-convert {\n",
              "      background-color: #E8F0FE;\n",
              "      border: none;\n",
              "      border-radius: 50%;\n",
              "      cursor: pointer;\n",
              "      display: none;\n",
              "      fill: #1967D2;\n",
              "      height: 32px;\n",
              "      padding: 0 0 0 0;\n",
              "      width: 32px;\n",
              "    }\n",
              "\n",
              "    .colab-df-convert:hover {\n",
              "      background-color: #E2EBFA;\n",
              "      box-shadow: 0px 1px 2px rgba(60, 64, 67, 0.3), 0px 1px 3px 1px rgba(60, 64, 67, 0.15);\n",
              "      fill: #174EA6;\n",
              "    }\n",
              "\n",
              "    [theme=dark] .colab-df-convert {\n",
              "      background-color: #3B4455;\n",
              "      fill: #D2E3FC;\n",
              "    }\n",
              "\n",
              "    [theme=dark] .colab-df-convert:hover {\n",
              "      background-color: #434B5C;\n",
              "      box-shadow: 0px 1px 3px 1px rgba(0, 0, 0, 0.15);\n",
              "      filter: drop-shadow(0px 1px 2px rgba(0, 0, 0, 0.3));\n",
              "      fill: #FFFFFF;\n",
              "    }\n",
              "  </style>\n",
              "\n",
              "      <script>\n",
              "        const buttonEl =\n",
              "          document.querySelector('#df-a96a4dba-4d88-4b5f-a56c-0c55166a8936 button.colab-df-convert');\n",
              "        buttonEl.style.display =\n",
              "          google.colab.kernel.accessAllowed ? 'block' : 'none';\n",
              "\n",
              "        async function convertToInteractive(key) {\n",
              "          const element = document.querySelector('#df-a96a4dba-4d88-4b5f-a56c-0c55166a8936');\n",
              "          const dataTable =\n",
              "            await google.colab.kernel.invokeFunction('convertToInteractive',\n",
              "                                                     [key], {});\n",
              "          if (!dataTable) return;\n",
              "\n",
              "          const docLinkHtml = 'Like what you see? Visit the ' +\n",
              "            '<a target=\"_blank\" href=https://colab.research.google.com/notebooks/data_table.ipynb>data table notebook</a>'\n",
              "            + ' to learn more about interactive tables.';\n",
              "          element.innerHTML = '';\n",
              "          dataTable['output_type'] = 'display_data';\n",
              "          await google.colab.output.renderOutput(dataTable, element);\n",
              "          const docLink = document.createElement('div');\n",
              "          docLink.innerHTML = docLinkHtml;\n",
              "          element.appendChild(docLink);\n",
              "        }\n",
              "      </script>\n",
              "    </div>\n",
              "  </div>\n",
              "  "
            ]
          },
          "metadata": {},
          "execution_count": 100
        }
      ]
    },
    {
      "cell_type": "code",
      "source": [
        "years_grouped['record'].plot(kind='line',logy=True, \n",
        "                 figsize = (15, 6),\n",
        "                 color = 'slategrey',\n",
        "                 ylabel = 'Count (hundredth)',\n",
        "                 xlabel = 'Birth Year')\n",
        "\n",
        "plt.title(\"Number of Applications by Applicant's Birth Year\", fontsize = 15, fontweight = 'bold')"
      ],
      "metadata": {
        "colab": {
          "base_uri": "https://localhost:8080/",
          "height": 403
        },
        "id": "NX-MzmdjcsCi",
        "outputId": "d83b0e96-7b98-4e5f-fef0-b46f3a42fbfb"
      },
      "execution_count": null,
      "outputs": [
        {
          "output_type": "execute_result",
          "data": {
            "text/plain": [
              "Text(0.5, 1.0, \"Number of Applications by Applicant's Birth Year\")"
            ]
          },
          "metadata": {},
          "execution_count": 104
        },
        {
          "output_type": "display_data",
          "data": {
            "text/plain": [
              "<Figure size 1080x432 with 1 Axes>"
            ],
            "image/png": "[encoded data removed]"
          },
          "metadata": {
            "needs_background": "light"
          }
        }
      ]
    },
    {
      "cell_type": "code",
      "source": [
        "len(data['dob'].unique())"
      ],
      "metadata": {
        "colab": {
          "base_uri": "https://localhost:8080/"
        },
        "id": "3DLYSEHW7SZU",
        "outputId": "db7e6bdc-8e28-4031-c406-c07c53c43966"
      },
      "execution_count": null,
      "outputs": [
        {
          "output_type": "execute_result",
          "data": {
            "text/plain": [
              "42673"
            ]
          },
          "metadata": {},
          "execution_count": 105
        }
      ]
    },
    {
      "cell_type": "code",
      "source": [
        "data['dob'].value_counts()"
      ],
      "metadata": {
        "colab": {
          "base_uri": "https://localhost:8080/"
        },
        "id": "0IuJyRga7Vpq",
        "outputId": "77f910da-5134-40b0-cd9f-242eac8b0d31"
      },
      "execution_count": null,
      "outputs": [
        {
          "output_type": "execute_result",
          "data": {
            "text/plain": [
              "1907-06-26    126568\n",
              "1964-03-18      4818\n",
              "1976-06-25      3723\n",
              "1988-06-28      1404\n",
              "1974-02-16       980\n",
              "               ...  \n",
              "1928-07-30         5\n",
              "1986-03-13         5\n",
              "1919-02-23         5\n",
              "1944-11-27         5\n",
              "1996-09-04         5\n",
              "Name: dob, Length: 42673, dtype: int64"
            ]
          },
          "metadata": {},
          "execution_count": 106
        }
      ]
    },
    {
      "cell_type": "code",
      "source": [
        "# dob_grouped = data['dob'].value_counts().head(20)\n",
        "# dob_grouped"
      ],
      "metadata": {
        "id": "4dtPXfJb7c4w"
      },
      "execution_count": null,
      "outputs": []
    },
    {
      "cell_type": "code",
      "source": [
        "data['dob_month_year'] = data['dob'].dt.to_period('D')\n",
        "dob_grouped = data['dob_month_year'].value_counts()\n",
        "\n",
        "dob_grouped.head(20).plot(kind='bar',logy=True,\n",
        "                          figsize = (7, 4), \n",
        "                          color = 'slategrey', \n",
        "                          ylabel = 'Count', \n",
        "                          xlabel = 'Date of Birth (DOB)')\n",
        "\n",
        "plt.title(\"Most Common Value of Date of Birth (DOB)\", fontsize = 15, fontweight = 'bold')"
      ],
      "metadata": {
        "colab": {
          "base_uri": "https://localhost:8080/",
          "height": 363
        },
        "id": "bk7oXScE73NO",
        "outputId": "c5fdad0e-8b47-4805-bc9b-7e72ffb155fa"
      },
      "execution_count": null,
      "outputs": [
        {
          "output_type": "execute_result",
          "data": {
            "text/plain": [
              "Text(0.5, 1.0, 'Most Common Value of Date of Birth (DOB)')"
            ]
          },
          "metadata": {},
          "execution_count": 107
        },
        {
          "output_type": "display_data",
          "data": {
            "text/plain": [
              "<Figure size 504x288 with 1 Axes>"
            ],
            "image/png": "[encoded data removed]"
          },
          "metadata": {
            "needs_background": "light"
          }
        }
      ]
    },
    {
      "cell_type": "markdown",
      "source": [
        "# **First name**"
      ],
      "metadata": {
        "id": "QxoEfQyDzryi"
      }
    },
    {
      "cell_type": "code",
      "source": [
        "# Finding amount of unique first names\n",
        "len(data['firstname'].unique())"
      ],
      "metadata": {
        "colab": {
          "base_uri": "https://localhost:8080/"
        },
        "id": "odxJtZmCzsba",
        "outputId": "586538aa-7d41-4567-b84c-f18122291d8f"
      },
      "execution_count": null,
      "outputs": [
        {
          "output_type": "execute_result",
          "data": {
            "text/plain": [
              "78136"
            ]
          },
          "metadata": {},
          "execution_count": 108
        }
      ]
    },
    {
      "cell_type": "code",
      "source": [
        "# Grouping first names and finding the count\n",
        "data['firstname'].value_counts()"
      ],
      "metadata": {
        "colab": {
          "base_uri": "https://localhost:8080/"
        },
        "id": "EdST3MIb0CWr",
        "outputId": "7d0f7b64-e421-40d0-cfcb-c12b1671aaf3"
      },
      "execution_count": null,
      "outputs": [
        {
          "output_type": "execute_result",
          "data": {
            "text/plain": [
              "EAMSTRMT     12658\n",
              "TXEMXZZM     10297\n",
              "UXXJJZTUZ    10235\n",
              "UJSRSMUEZ     9994\n",
              "SREZUJMJU     9688\n",
              "             ...  \n",
              "TUSSMZJA         1\n",
              "SSAZJXSRM        1\n",
              "UATETTATJ        1\n",
              "UASJMZXZJ        1\n",
              "RUZUJJRMX        1\n",
              "Name: firstname, Length: 78136, dtype: int64"
            ]
          },
          "metadata": {},
          "execution_count": 109
        }
      ]
    },
    {
      "cell_type": "code",
      "source": [
        "# Storing values in a variable to call in plot later\n",
        "fn_grouped = data['firstname'].value_counts().head(20)\n",
        "fn_grouped"
      ],
      "metadata": {
        "colab": {
          "base_uri": "https://localhost:8080/"
        },
        "id": "0i_9wwE00Q2F",
        "outputId": "3196331b-3180-43cb-b3cb-32840f452463"
      },
      "execution_count": null,
      "outputs": [
        {
          "output_type": "execute_result",
          "data": {
            "text/plain": [
              "EAMSTRMT     12658\n",
              "TXEMXZZM     10297\n",
              "UXXJJZTUZ    10235\n",
              "UJSRSMUEZ     9994\n",
              "SREZUJMJU     9688\n",
              "EASEXMJAT     7576\n",
              "SSSXUEJMS     6923\n",
              "SZUASTTA      6878\n",
              "EREMTZXXA     6717\n",
              "EAXRRUMUX     5686\n",
              "USSZMRERM     5511\n",
              "MJJJZUZTE     5294\n",
              "MAUJMJTU      5022\n",
              "RSZXMZRSU     5006\n",
              "MEERZUXXU     4966\n",
              "EZTERXZRA     4716\n",
              "RTMMTSZRZ     4618\n",
              "UXZUMTRTR     4600\n",
              "UXJAUZRMM     4580\n",
              "MSRUAREMU     4145\n",
              "Name: firstname, dtype: int64"
            ]
          },
          "metadata": {},
          "execution_count": 110
        }
      ]
    },
    {
      "cell_type": "code",
      "source": [
        "#data['firstname'].value_counts().head(20).plot(kind='bar')\n",
        "\n",
        "fn_grouped.plot(kind='bar', \n",
        "                 figsize = (7, 4),\n",
        "                 color = 'slategrey',\n",
        "                 ylabel = 'Count',\n",
        "                 xlabel = 'First Name')\n",
        "\n",
        "plt.title(\"Most Common Value of First Name\", fontsize = 15, fontweight = 'bold')"
      ],
      "metadata": {
        "colab": {
          "base_uri": "https://localhost:8080/",
          "height": 370
        },
        "id": "7iBSkpMN0HsW",
        "outputId": "e1e2c3c4-726b-4935-99ee-1d7c41989210"
      },
      "execution_count": null,
      "outputs": [
        {
          "output_type": "execute_result",
          "data": {
            "text/plain": [
              "Text(0.5, 1.0, 'Most Common Value of First Name')"
            ]
          },
          "metadata": {},
          "execution_count": 111
        },
        {
          "output_type": "display_data",
          "data": {
            "text/plain": [
              "<Figure size 504x288 with 1 Axes>"
            ],
            "image/png": "[encoded data removed]"
          },
          "metadata": {
            "needs_background": "light"
          }
        }
      ]
    },
    {
      "cell_type": "markdown",
      "source": [
        "# **Last Name**"
      ],
      "metadata": {
        "id": "s7jRhAHF1MV3"
      }
    },
    {
      "cell_type": "code",
      "source": [
        "# Finding amount of unique last names\n",
        "len(data['lastname'].unique())"
      ],
      "metadata": {
        "colab": {
          "base_uri": "https://localhost:8080/"
        },
        "id": "WGzW127T1MKN",
        "outputId": "58564bc2-494f-43e7-d7de-a64bc619e67d"
      },
      "execution_count": null,
      "outputs": [
        {
          "output_type": "execute_result",
          "data": {
            "text/plain": [
              "177001"
            ]
          },
          "metadata": {},
          "execution_count": 112
        }
      ]
    },
    {
      "cell_type": "code",
      "source": [
        "# Grouping last names and finding the count\n",
        "data['lastname'].value_counts()"
      ],
      "metadata": {
        "colab": {
          "base_uri": "https://localhost:8080/"
        },
        "id": "QBpla8F11nvN",
        "outputId": "a0dad0f3-cd78-4b4c-c7ee-31deb2d0974a"
      },
      "execution_count": null,
      "outputs": [
        {
          "output_type": "execute_result",
          "data": {
            "text/plain": [
              "ERJSAXA     8580\n",
              "UMXUUUSE    7156\n",
              "UMARRMA     6832\n",
              "MEAXJUX     5492\n",
              "XMERRR      5451\n",
              "            ... \n",
              "RMJZJRMJ       1\n",
              "SSUTSMUM       1\n",
              "EXASZEXS       1\n",
              "UERZXTTR       1\n",
              "RMJZURRS       1\n",
              "Name: lastname, Length: 177001, dtype: int64"
            ]
          },
          "metadata": {},
          "execution_count": 113
        }
      ]
    },
    {
      "cell_type": "code",
      "source": [
        "# Storing values in a variable to call in plot later\n",
        "ln_grouped = data['lastname'].value_counts().head(20)\n",
        "ln_grouped"
      ],
      "metadata": {
        "colab": {
          "base_uri": "https://localhost:8080/"
        },
        "id": "WU2VtUF61rWs",
        "outputId": "79dbde1f-e914-4515-cfd8-ce81556fd855"
      },
      "execution_count": null,
      "outputs": [
        {
          "output_type": "execute_result",
          "data": {
            "text/plain": [
              "ERJSAXA     8580\n",
              "UMXUUUSE    7156\n",
              "UMARRMA     6832\n",
              "MEAXJUX     5492\n",
              "XMERRR      5451\n",
              "SXZXJRJT    4340\n",
              "EUSEZRAE    4173\n",
              "USMATTUR    4036\n",
              "ETERUXME    3762\n",
              "RJURSTXJ    3575\n",
              "RTZRTZAS    3559\n",
              "SRTRERMJ    3259\n",
              "RMRXAMX     3074\n",
              "RJRARJJU    3048\n",
              "SUERZXAT    3026\n",
              "EUXRMR      2757\n",
              "STXAAZZM    2594\n",
              "ETAJXSRE    2584\n",
              "EASASTEM    2535\n",
              "SMTTZJJX    2527\n",
              "Name: lastname, dtype: int64"
            ]
          },
          "metadata": {},
          "execution_count": 114
        }
      ]
    },
    {
      "cell_type": "code",
      "source": [
        "#data['lastname'].value_counts().head(20).plot(kind='bar')\n",
        "\n",
        "ln_grouped.plot(kind='bar', \n",
        "                 figsize = (7, 4),\n",
        "                 color = 'slategrey',\n",
        "                 ylabel = 'Count',\n",
        "                 xlabel = 'Last Name')\n",
        "\n",
        "plt.title(\"Most Common Value of Last Name\", fontsize = 15, fontweight = 'bold')"
      ],
      "metadata": {
        "colab": {
          "base_uri": "https://localhost:8080/",
          "height": 363
        },
        "id": "hOCVwi681tEs",
        "outputId": "96ae447d-0c84-431c-89b2-b99af9776fcb"
      },
      "execution_count": null,
      "outputs": [
        {
          "output_type": "execute_result",
          "data": {
            "text/plain": [
              "Text(0.5, 1.0, 'Most Common Value of Last Name')"
            ]
          },
          "metadata": {},
          "execution_count": 115
        },
        {
          "output_type": "display_data",
          "data": {
            "text/plain": [
              "<Figure size 504x288 with 1 Axes>"
            ],
            "image/png": "[encoded data removed]"
          },
          "metadata": {
            "needs_background": "light"
          }
        }
      ]
    },
    {
      "cell_type": "markdown",
      "source": [
        "# **Address**"
      ],
      "metadata": {
        "id": "qlodSWFS2SD5"
      }
    },
    {
      "cell_type": "code",
      "source": [
        "# Finding amount of unique address\n",
        "len(data['address'].unique())"
      ],
      "metadata": {
        "colab": {
          "base_uri": "https://localhost:8080/"
        },
        "id": "35EMRHlW2Rtf",
        "outputId": "268462a0-688b-4033-f4ad-90718707a3e6"
      },
      "execution_count": null,
      "outputs": [
        {
          "output_type": "execute_result",
          "data": {
            "text/plain": [
              "828774"
            ]
          },
          "metadata": {},
          "execution_count": 116
        }
      ]
    },
    {
      "cell_type": "code",
      "source": [
        "data['address'].value_counts()"
      ],
      "metadata": {
        "colab": {
          "base_uri": "https://localhost:8080/"
        },
        "id": "Bs0l-s2S3YVe",
        "outputId": "55a46e88-e245-451f-839a-21d80a99dc63"
      },
      "execution_count": null,
      "outputs": [
        {
          "output_type": "execute_result",
          "data": {
            "text/plain": [
              "123 MAIN ST        1079\n",
              "1775 XJXE LN         97\n",
              "7433 RAEZA ST        80\n",
              "8911 MZSU DR         74\n",
              "4907 RRAAU DR        73\n",
              "                   ... \n",
              "1179 RATUS BLVD       1\n",
              "8006 SSRJM ST         1\n",
              "6327 MAXR ST          1\n",
              "4937 ESAMR LN         1\n",
              "3408 UZZAM WY         1\n",
              "Name: address, Length: 828774, dtype: int64"
            ]
          },
          "metadata": {},
          "execution_count": 117
        }
      ]
    },
    {
      "cell_type": "code",
      "source": [
        "# Storing values in a variable to call in plot later\n",
        "add_grouped = data['address'].value_counts().head(20)\n",
        "add_grouped"
      ],
      "metadata": {
        "colab": {
          "base_uri": "https://localhost:8080/"
        },
        "id": "Qq4AY38-3m5w",
        "outputId": "64dd44fc-7b61-4196-ba29-2f48bd6461cd"
      },
      "execution_count": null,
      "outputs": [
        {
          "output_type": "execute_result",
          "data": {
            "text/plain": [
              "123 MAIN ST       1079\n",
              "1775 XJXE LN        97\n",
              "7433 RAEZA ST       80\n",
              "8911 MZSU DR        74\n",
              "4907 RRAAU DR       73\n",
              "426 XUAXZ BLVD      57\n",
              "3545 ARMA ST        44\n",
              "606 EZZAU WY        44\n",
              "4530 ETSMX WY       42\n",
              "4292 RUSMM LN       41\n",
              "9693 ERJZA LN       40\n",
              "3142 MZZE WY        36\n",
              "1425 UAATX ST       35\n",
              "6637 UESAX LN       35\n",
              "5600 UETAR AVE      35\n",
              "4479 RMEAZ PL       34\n",
              "2611 AXXS CT        33\n",
              "9777 RMJJU WY       32\n",
              "8966 UAJER AVE      31\n",
              "2026 UZJTX CT       31\n",
              "Name: address, dtype: int64"
            ]
          },
          "metadata": {},
          "execution_count": 118
        }
      ]
    },
    {
      "cell_type": "code",
      "source": [
        "#data['address'].value_counts().head(20).plot(kind='bar',logy=True)\n",
        "add_grouped.plot(kind='bar', logy = True, \n",
        "                 figsize = (7, 4),\n",
        "                 color = 'slategrey',\n",
        "                 ylabel = 'Count (Hundredth)',\n",
        "                 xlabel = 'Address')\n",
        "\n",
        "plt.title(\"Most Common Value of Address\", fontsize = 15, fontweight = 'bold')"
      ],
      "metadata": {
        "colab": {
          "base_uri": "https://localhost:8080/",
          "height": 391
        },
        "id": "fz0l9F_g3YYR",
        "outputId": "7ae9bd7b-f4cd-42a1-9334-10b7ed480e52"
      },
      "execution_count": null,
      "outputs": [
        {
          "output_type": "execute_result",
          "data": {
            "text/plain": [
              "Text(0.5, 1.0, 'Most Common Value of Address')"
            ]
          },
          "metadata": {},
          "execution_count": 119
        },
        {
          "output_type": "display_data",
          "data": {
            "text/plain": [
              "<Figure size 504x288 with 1 Axes>"
            ],
            "image/png": "[encoded data removed]"
          },
          "metadata": {
            "needs_background": "light"
          }
        }
      ]
    },
    {
      "cell_type": "markdown",
      "source": [
        "# **Zip5**"
      ],
      "metadata": {
        "id": "QMmw-t375yeM"
      }
    },
    {
      "cell_type": "code",
      "source": [
        "# Finding amount of unique zip\n",
        "len(data['zip5'].unique())"
      ],
      "metadata": {
        "colab": {
          "base_uri": "https://localhost:8080/"
        },
        "outputId": "7281d93a-f298-45e2-a7f8-c0760ce1d4ca",
        "id": "6m-slA5B51cV"
      },
      "execution_count": null,
      "outputs": [
        {
          "output_type": "execute_result",
          "data": {
            "text/plain": [
              "26370"
            ]
          },
          "metadata": {},
          "execution_count": 120
        }
      ]
    },
    {
      "cell_type": "code",
      "source": [
        "data['zip5'].value_counts()"
      ],
      "metadata": {
        "colab": {
          "base_uri": "https://localhost:8080/"
        },
        "outputId": "9f93c582-56f2-47a0-c795-d2ced2de3d7c",
        "id": "gSu4a81O51cW"
      },
      "execution_count": null,
      "outputs": [
        {
          "output_type": "execute_result",
          "data": {
            "text/plain": [
              "68138    823\n",
              "90042    514\n",
              "89835    489\n",
              "35227    478\n",
              "14931    459\n",
              "        ... \n",
              "1599       1\n",
              "69474      1\n",
              "51017      1\n",
              "25995      1\n",
              "21226      1\n",
              "Name: zip5, Length: 26370, dtype: int64"
            ]
          },
          "metadata": {},
          "execution_count": 121
        }
      ]
    },
    {
      "cell_type": "code",
      "source": [
        "# Storing values in a variable to call in plot later\n",
        "zip_grouped = data['zip5'].value_counts().head(20)\n",
        "zip_grouped"
      ],
      "metadata": {
        "colab": {
          "base_uri": "https://localhost:8080/"
        },
        "outputId": "94cb06d5-37aa-4385-9ed8-0922910181e5",
        "id": "l40FpfWf51cX"
      },
      "execution_count": null,
      "outputs": [
        {
          "output_type": "execute_result",
          "data": {
            "text/plain": [
              "68138    823\n",
              "90042    514\n",
              "89835    489\n",
              "35227    478\n",
              "14931    459\n",
              "86500    438\n",
              "12700    436\n",
              "1362     434\n",
              "52317    432\n",
              "59695    432\n",
              "14455    431\n",
              "64597    431\n",
              "11848    428\n",
              "34031    425\n",
              "84983    419\n",
              "80692    408\n",
              "94992    406\n",
              "47208    399\n",
              "94887    397\n",
              "27132    397\n",
              "Name: zip5, dtype: int64"
            ]
          },
          "metadata": {},
          "execution_count": 122
        }
      ]
    },
    {
      "cell_type": "code",
      "source": [
        "#data['zip5'].value_counts().head(20).plot(kind='bar',logy=True)\n",
        "\n",
        "zip_grouped.plot(kind='bar', logy = True, \n",
        "                 figsize = (7, 4),\n",
        "                 color = 'slategrey',\n",
        "                 ylabel = 'Count (Hundredth)',\n",
        "                 xlabel = 'Zip Code')\n",
        "\n",
        "plt.title(\"Most Common Value of Zip\", fontsize = 15, fontweight = 'bold')"
      ],
      "metadata": {
        "colab": {
          "base_uri": "https://localhost:8080/",
          "height": 337
        },
        "outputId": "eb84e2cd-3b4d-43f0-dc01-537a21d8f6d5",
        "id": "XThlhlF451cX"
      },
      "execution_count": null,
      "outputs": [
        {
          "output_type": "execute_result",
          "data": {
            "text/plain": [
              "Text(0.5, 1.0, 'Most Common Value of Zip')"
            ]
          },
          "metadata": {},
          "execution_count": 123
        },
        {
          "output_type": "display_data",
          "data": {
            "text/plain": [
              "<Figure size 504x288 with 1 Axes>"
            ],
            "image/png": "[encoded data removed]"
          },
          "metadata": {
            "needs_background": "light"
          }
        }
      ]
    },
    {
      "cell_type": "markdown",
      "source": [
        "# **Homephone**"
      ],
      "metadata": {
        "id": "q9OnbBY19isl"
      }
    },
    {
      "cell_type": "code",
      "source": [
        "# Finding amount of unique homephone\n",
        "len(data['homephone'].unique())"
      ],
      "metadata": {
        "colab": {
          "base_uri": "https://localhost:8080/"
        },
        "outputId": "1c68204e-2bc7-491f-e860-a515be59468d",
        "id": "x5rX2XnO9lK_"
      },
      "execution_count": null,
      "outputs": [
        {
          "output_type": "execute_result",
          "data": {
            "text/plain": [
              "28244"
            ]
          },
          "metadata": {},
          "execution_count": 124
        }
      ]
    },
    {
      "cell_type": "code",
      "source": [
        "data['homephone'].value_counts()"
      ],
      "metadata": {
        "colab": {
          "base_uri": "https://localhost:8080/"
        },
        "outputId": "10b56894-7320-4e68-db65-4a18411f2518",
        "id": "ylihpd3U9lK_"
      },
      "execution_count": null,
      "outputs": [
        {
          "output_type": "execute_result",
          "data": {
            "text/plain": [
              "9999999999    78512\n",
              "6384782007      466\n",
              "6035129044      360\n",
              "2113738531      331\n",
              "4024680535      198\n",
              "              ...  \n",
              "3450484388        1\n",
              "5376503138        1\n",
              "7106175831        1\n",
              "5010200060        1\n",
              "6271618925        1\n",
              "Name: homephone, Length: 28244, dtype: int64"
            ]
          },
          "metadata": {},
          "execution_count": 125
        }
      ]
    },
    {
      "cell_type": "code",
      "source": [
        "# Storing values in a variable to call in plot later\n",
        "phone_grouped = data['homephone'].value_counts().head(20)\n",
        "phone_grouped"
      ],
      "metadata": {
        "colab": {
          "base_uri": "https://localhost:8080/"
        },
        "outputId": "c9809b25-5e91-4f49-969c-267f4efa37fe",
        "id": "Mwwj8p7g9lK_"
      },
      "execution_count": null,
      "outputs": [
        {
          "output_type": "execute_result",
          "data": {
            "text/plain": [
              "9999999999    78512\n",
              "6384782007      466\n",
              "6035129044      360\n",
              "2113738531      331\n",
              "4024680535      198\n",
              "2669445638      172\n",
              "6637507363      169\n",
              "8629049955      139\n",
              "3364980740      110\n",
              "6845279110      108\n",
              "1324008228      108\n",
              "2841944187      107\n",
              "8880326532      107\n",
              "8477710704      106\n",
              "5014272561      106\n",
              "6773573704      105\n",
              "3417174496      104\n",
              "6538326086      104\n",
              "1133829511      103\n",
              "7460887672      103\n",
              "Name: homephone, dtype: int64"
            ]
          },
          "metadata": {},
          "execution_count": 126
        }
      ]
    },
    {
      "cell_type": "code",
      "source": [
        "#data['homephone'].value_counts().head(20).plot(kind='bar',logy=True)\n",
        "\n",
        "phone_grouped.plot(kind='bar', logy = True, \n",
        "                 figsize = (7, 4),\n",
        "                 color = 'slategrey',\n",
        "                 ylabel = 'Count (Hundredth)',\n",
        "                 xlabel = 'Home Phone Number')\n",
        "\n",
        "plt.title(\"Most Common Value of Homephone\", fontsize = 15, fontweight = 'bold')"
      ],
      "metadata": {
        "colab": {
          "base_uri": "https://localhost:8080/",
          "height": 369
        },
        "outputId": "16752acc-a588-44c1-90c5-c4a557868281",
        "id": "x9iWKCIU9lK_"
      },
      "execution_count": null,
      "outputs": [
        {
          "output_type": "execute_result",
          "data": {
            "text/plain": [
              "Text(0.5, 1.0, 'Most Common Value of Homephone')"
            ]
          },
          "metadata": {},
          "execution_count": 127
        },
        {
          "output_type": "display_data",
          "data": {
            "text/plain": [
              "<Figure size 504x288 with 1 Axes>"
            ],
            "image/png": "[encoded data removed]"
          },
          "metadata": {
            "needs_background": "light"
          }
        }
      ]
    },
    {
      "cell_type": "code",
      "source": [
        "data[data['homephone'] == 6384782007].head(10)"
      ],
      "metadata": {
        "colab": {
          "base_uri": "https://localhost:8080/",
          "height": 581
        },
        "id": "L3t_qNpQ-xHV",
        "outputId": "20772263-fc32-4e1f-dd0c-4467ec87d247"
      },
      "execution_count": null,
      "outputs": [
        {
          "output_type": "execute_result",
          "data": {
            "text/plain": [
              "       record       date        ssn  firstname  lastname         address  \\\n",
              "955       956 2017-01-01  839219305  XTSTSTRXZ  RJURERXZ   1393 ERXUA PL   \n",
              "1089     1090 2017-01-01  174602522  UXJAUZRMM  RJSESTSE   5267 EXAEU PL   \n",
              "1550     1551 2017-01-01  555701804  EMZSUSZUA  UTZJSRZX    1370 UXTR ST   \n",
              "2478     2479 2017-01-01   54298943  ERZJAXMZU   TSUEEET  4266 XMAJX AVE   \n",
              "5001     5002 2017-01-02  999999999   EAMSTRMT  UJMZZASU     56 EXZSM CT   \n",
              "5462     5463 2017-01-02  321807047   SZUASTTA  EASASTEM   6908 ERERJ WY   \n",
              "12962   12963 2017-01-05  467135557  UXZUMTRTR  UTJASRAJ   5323 SJTET CT   \n",
              "14316   14317 2017-01-06  737308489  SSJXXUUZT  EZTSXXEJ   4164 RRJAU ST   \n",
              "15690   15691 2017-01-06  912911963  XJZAUEZTX  EMAJTXXA   9973 TARA AVE   \n",
              "18075   18076 2017-01-07  575697321   RSXTZRTS  RJEARXTU   7186 EMAMU PL   \n",
              "\n",
              "        zip5        dob   homephone  fraud_label dob_month_year  \n",
              "955     2881 1944-10-16  6384782007            0     1944-10-16  \n",
              "1089   73914 1968-06-05  6384782007            0     1968-06-05  \n",
              "1550   97066 1907-06-26  6384782007            0     1907-06-26  \n",
              "2478    6625 1907-06-26  6384782007            0     1907-06-26  \n",
              "5001   47366 1907-06-26  6384782007            0     1907-06-26  \n",
              "5462   78763 1982-08-23  6384782007            0     1982-08-23  \n",
              "12962  63515 2000-04-09  6384782007            0     2000-04-09  \n",
              "14316  29293 1907-06-26  6384782007            0     1907-06-26  \n",
              "15690  96286 1923-10-16  6384782007            0     1923-10-16  \n",
              "18075  44845 1905-06-28  6384782007            0     1905-06-28  "
            ],
            "text/html": [
              "\n",
              "  <div id=\"df-de8371ba-57ee-499a-8fc0-a34d1be72099\">\n",
              "    <div class=\"colab-df-container\">\n",
              "      <div>\n",
              "<style scoped>\n",
              "    .dataframe tbody tr th:only-of-type {\n",
              "        vertical-align: middle;\n",
              "    }\n",
              "\n",
              "    .dataframe tbody tr th {\n",
              "        vertical-align: top;\n",
              "    }\n",
              "\n",
              "    .dataframe thead th {\n",
              "        text-align: right;\n",
              "    }\n",
              "</style>\n",
              "<table border=\"1\" class=\"dataframe\">\n",
              "  <thead>\n",
              "    <tr style=\"text-align: right;\">\n",
              "      <th></th>\n",
              "      <th>record</th>\n",
              "      <th>date</th>\n",
              "      <th>ssn</th>\n",
              "      <th>firstname</th>\n",
              "      <th>lastname</th>\n",
              "      <th>address</th>\n",
              "      <th>zip5</th>\n",
              "      <th>dob</th>\n",
              "      <th>homephone</th>\n",
              "      <th>fraud_label</th>\n",
              "      <th>dob_month_year</th>\n",
              "    </tr>\n",
              "  </thead>\n",
              "  <tbody>\n",
              "    <tr>\n",
              "      <th>955</th>\n",
              "      <td>956</td>\n",
              "      <td>2017-01-01</td>\n",
              "      <td>839219305</td>\n",
              "      <td>XTSTSTRXZ</td>\n",
              "      <td>RJURERXZ</td>\n",
              "      <td>1393 ERXUA PL</td>\n",
              "      <td>2881</td>\n",
              "      <td>1944-10-16</td>\n",
              "      <td>6384782007</td>\n",
              "      <td>0</td>\n",
              "      <td>1944-10-16</td>\n",
              "    </tr>\n",
              "    <tr>\n",
              "      <th>1089</th>\n",
              "      <td>1090</td>\n",
              "      <td>2017-01-01</td>\n",
              "      <td>174602522</td>\n",
              "      <td>UXJAUZRMM</td>\n",
              "      <td>RJSESTSE</td>\n",
              "      <td>5267 EXAEU PL</td>\n",
              "      <td>73914</td>\n",
              "      <td>1968-06-05</td>\n",
              "      <td>6384782007</td>\n",
              "      <td>0</td>\n",
              "      <td>1968-06-05</td>\n",
              "    </tr>\n",
              "    <tr>\n",
              "      <th>1550</th>\n",
              "      <td>1551</td>\n",
              "      <td>2017-01-01</td>\n",
              "      <td>555701804</td>\n",
              "      <td>EMZSUSZUA</td>\n",
              "      <td>UTZJSRZX</td>\n",
              "      <td>1370 UXTR ST</td>\n",
              "      <td>97066</td>\n",
              "      <td>1907-06-26</td>\n",
              "      <td>6384782007</td>\n",
              "      <td>0</td>\n",
              "      <td>1907-06-26</td>\n",
              "    </tr>\n",
              "    <tr>\n",
              "      <th>2478</th>\n",
              "      <td>2479</td>\n",
              "      <td>2017-01-01</td>\n",
              "      <td>54298943</td>\n",
              "      <td>ERZJAXMZU</td>\n",
              "      <td>TSUEEET</td>\n",
              "      <td>4266 XMAJX AVE</td>\n",
              "      <td>6625</td>\n",
              "      <td>1907-06-26</td>\n",
              "      <td>6384782007</td>\n",
              "      <td>0</td>\n",
              "      <td>1907-06-26</td>\n",
              "    </tr>\n",
              "    <tr>\n",
              "      <th>5001</th>\n",
              "      <td>5002</td>\n",
              "      <td>2017-01-02</td>\n",
              "      <td>999999999</td>\n",
              "      <td>EAMSTRMT</td>\n",
              "      <td>UJMZZASU</td>\n",
              "      <td>56 EXZSM CT</td>\n",
              "      <td>47366</td>\n",
              "      <td>1907-06-26</td>\n",
              "      <td>6384782007</td>\n",
              "      <td>0</td>\n",
              "      <td>1907-06-26</td>\n",
              "    </tr>\n",
              "    <tr>\n",
              "      <th>5462</th>\n",
              "      <td>5463</td>\n",
              "      <td>2017-01-02</td>\n",
              "      <td>321807047</td>\n",
              "      <td>SZUASTTA</td>\n",
              "      <td>EASASTEM</td>\n",
              "      <td>6908 ERERJ WY</td>\n",
              "      <td>78763</td>\n",
              "      <td>1982-08-23</td>\n",
              "      <td>6384782007</td>\n",
              "      <td>0</td>\n",
              "      <td>1982-08-23</td>\n",
              "    </tr>\n",
              "    <tr>\n",
              "      <th>12962</th>\n",
              "      <td>12963</td>\n",
              "      <td>2017-01-05</td>\n",
              "      <td>467135557</td>\n",
              "      <td>UXZUMTRTR</td>\n",
              "      <td>UTJASRAJ</td>\n",
              "      <td>5323 SJTET CT</td>\n",
              "      <td>63515</td>\n",
              "      <td>2000-04-09</td>\n",
              "      <td>6384782007</td>\n",
              "      <td>0</td>\n",
              "      <td>2000-04-09</td>\n",
              "    </tr>\n",
              "    <tr>\n",
              "      <th>14316</th>\n",
              "      <td>14317</td>\n",
              "      <td>2017-01-06</td>\n",
              "      <td>737308489</td>\n",
              "      <td>SSJXXUUZT</td>\n",
              "      <td>EZTSXXEJ</td>\n",
              "      <td>4164 RRJAU ST</td>\n",
              "      <td>29293</td>\n",
              "      <td>1907-06-26</td>\n",
              "      <td>6384782007</td>\n",
              "      <td>0</td>\n",
              "      <td>1907-06-26</td>\n",
              "    </tr>\n",
              "    <tr>\n",
              "      <th>15690</th>\n",
              "      <td>15691</td>\n",
              "      <td>2017-01-06</td>\n",
              "      <td>912911963</td>\n",
              "      <td>XJZAUEZTX</td>\n",
              "      <td>EMAJTXXA</td>\n",
              "      <td>9973 TARA AVE</td>\n",
              "      <td>96286</td>\n",
              "      <td>1923-10-16</td>\n",
              "      <td>6384782007</td>\n",
              "      <td>0</td>\n",
              "      <td>1923-10-16</td>\n",
              "    </tr>\n",
              "    <tr>\n",
              "      <th>18075</th>\n",
              "      <td>18076</td>\n",
              "      <td>2017-01-07</td>\n",
              "      <td>575697321</td>\n",
              "      <td>RSXTZRTS</td>\n",
              "      <td>RJEARXTU</td>\n",
              "      <td>7186 EMAMU PL</td>\n",
              "      <td>44845</td>\n",
              "      <td>1905-06-28</td>\n",
              "      <td>6384782007</td>\n",
              "      <td>0</td>\n",
              "      <td>1905-06-28</td>\n",
              "    </tr>\n",
              "  </tbody>\n",
              "</table>\n",
              "</div>\n",
              "      <button class=\"colab-df-convert\" onclick=\"convertToInteractive('df-de8371ba-57ee-499a-8fc0-a34d1be72099')\"\n",
              "              title=\"Convert this dataframe to an interactive table.\"\n",
              "              style=\"display:none;\">\n",
              "        \n",
              "  <svg xmlns=\"http://www.w3.org/2000/svg\" height=\"24px\"viewBox=\"0 0 24 24\"\n",
              "       width=\"24px\">\n",
              "    <path d=\"M0 0h24v24H0V0z\" fill=\"none\"/>\n",
              "    <path d=\"M18.56 5.44l.94 2.06.94-2.06 2.06-.94-2.06-.94-.94-2.06-.94 2.06-2.06.94zm-11 1L8.5 8.5l.94-2.06 2.06-.94-2.06-.94L8.5 2.5l-.94 2.06-2.06.94zm10 10l.94 2.06.94-2.06 2.06-.94-2.06-.94-.94-2.06-.94 2.06-2.06.94z\"/><path d=\"M17.41 7.96l-1.37-1.37c-.4-.4-.92-.59-1.43-.59-.52 0-1.04.2-1.43.59L10.3 9.45l-7.72 7.72c-.78.78-.78 2.05 0 2.83L4 21.41c.39.39.9.59 1.41.59.51 0 1.02-.2 1.41-.59l7.78-7.78 2.81-2.81c.8-.78.8-2.07 0-2.86zM5.41 20L4 18.59l7.72-7.72 1.47 1.35L5.41 20z\"/>\n",
              "  </svg>\n",
              "      </button>\n",
              "      \n",
              "  <style>\n",
              "    .colab-df-container {\n",
              "      display:flex;\n",
              "      flex-wrap:wrap;\n",
              "      gap: 12px;\n",
              "    }\n",
              "\n",
              "    .colab-df-convert {\n",
              "      background-color: #E8F0FE;\n",
              "      border: none;\n",
              "      border-radius: 50%;\n",
              "      cursor: pointer;\n",
              "      display: none;\n",
              "      fill: #1967D2;\n",
              "      height: 32px;\n",
              "      padding: 0 0 0 0;\n",
              "      width: 32px;\n",
              "    }\n",
              "\n",
              "    .colab-df-convert:hover {\n",
              "      background-color: #E2EBFA;\n",
              "      box-shadow: 0px 1px 2px rgba(60, 64, 67, 0.3), 0px 1px 3px 1px rgba(60, 64, 67, 0.15);\n",
              "      fill: #174EA6;\n",
              "    }\n",
              "\n",
              "    [theme=dark] .colab-df-convert {\n",
              "      background-color: #3B4455;\n",
              "      fill: #D2E3FC;\n",
              "    }\n",
              "\n",
              "    [theme=dark] .colab-df-convert:hover {\n",
              "      background-color: #434B5C;\n",
              "      box-shadow: 0px 1px 3px 1px rgba(0, 0, 0, 0.15);\n",
              "      filter: drop-shadow(0px 1px 2px rgba(0, 0, 0, 0.3));\n",
              "      fill: #FFFFFF;\n",
              "    }\n",
              "  </style>\n",
              "\n",
              "      <script>\n",
              "        const buttonEl =\n",
              "          document.querySelector('#df-de8371ba-57ee-499a-8fc0-a34d1be72099 button.colab-df-convert');\n",
              "        buttonEl.style.display =\n",
              "          google.colab.kernel.accessAllowed ? 'block' : 'none';\n",
              "\n",
              "        async function convertToInteractive(key) {\n",
              "          const element = document.querySelector('#df-de8371ba-57ee-499a-8fc0-a34d1be72099');\n",
              "          const dataTable =\n",
              "            await google.colab.kernel.invokeFunction('convertToInteractive',\n",
              "                                                     [key], {});\n",
              "          if (!dataTable) return;\n",
              "\n",
              "          const docLinkHtml = 'Like what you see? Visit the ' +\n",
              "            '<a target=\"_blank\" href=https://colab.research.google.com/notebooks/data_table.ipynb>data table notebook</a>'\n",
              "            + ' to learn more about interactive tables.';\n",
              "          element.innerHTML = '';\n",
              "          dataTable['output_type'] = 'display_data';\n",
              "          await google.colab.output.renderOutput(dataTable, element);\n",
              "          const docLink = document.createElement('div');\n",
              "          docLink.innerHTML = docLinkHtml;\n",
              "          element.appendChild(docLink);\n",
              "        }\n",
              "      </script>\n",
              "    </div>\n",
              "  </div>\n",
              "  "
            ]
          },
          "metadata": {},
          "execution_count": 128
        }
      ]
    },
    {
      "cell_type": "markdown",
      "source": [
        "# **Good and Bad Applications**"
      ],
      "metadata": {
        "id": "kR18rvjvBGj-"
      }
    },
    {
      "cell_type": "code",
      "source": [
        "# Creating a variable to store number of good and bad records\n",
        "flagged = len(data[data['fraud_label'] == 0])\n",
        "not_flagged = len(data[data['fraud_label'] == 1])"
      ],
      "metadata": {
        "id": "7X3iC7AlBcRq"
      },
      "execution_count": null,
      "outputs": []
    },
    {
      "cell_type": "code",
      "source": [
        "data['fraud_label'].value_counts().head()"
      ],
      "metadata": {
        "colab": {
          "base_uri": "https://localhost:8080/"
        },
        "id": "zTMaCd-pBpwn",
        "outputId": "d277e258-fdc2-47f3-c39d-69c8d0e02b6f"
      },
      "execution_count": null,
      "outputs": [
        {
          "output_type": "execute_result",
          "data": {
            "text/plain": [
              "0    985607\n",
              "1     14393\n",
              "Name: fraud_label, dtype: int64"
            ]
          },
          "metadata": {},
          "execution_count": 130
        }
      ]
    },
    {
      "cell_type": "code",
      "source": [
        "print('There is', round(len(goods)/len(data)*100,2), '% of good cases labeled in this dataset.')\n",
        "print('There is', round(len(bads)/len(data)*100,2), '% of bad cases labeled in this dataset.')"
      ],
      "metadata": {
        "colab": {
          "base_uri": "https://localhost:8080/"
        },
        "outputId": "35881a0d-5969-4216-922c-9aeeb4c5f2ce",
        "id": "7AxyzpLzBcRr"
      },
      "execution_count": null,
      "outputs": [
        {
          "output_type": "stream",
          "name": "stdout",
          "text": [
            "There is 98.56 % of good cases labeled in this dataset.\n",
            "There is 1.44 % of bad cases labeled in this dataset.\n"
          ]
        }
      ]
    },
    {
      "cell_type": "code",
      "source": [
        "data['label_str'] = data['fraud_label'].replace({0:'Not_Flagged', 1:'Flagged'})\n",
        "fraud_counts = data['label_str'].value_counts()\n",
        "\n",
        "fraud_counts.plot(kind='bar', logy = True,\n",
        "                 figsize = (7, 4),\n",
        "                 color = ('darkseagreen','tomato'), \n",
        "                  alpha = 0.8,\n",
        "                 ylabel = 'Count (Hundredth)',\n",
        "                 xlabel = 'Fraud Label')\n",
        "plt.xticks(rotation=0)\n",
        "\n",
        "plt.title(\"Distribution of Fraud Labels\", fontsize = 15, fontweight = 'bold')"
      ],
      "metadata": {
        "colab": {
          "base_uri": "https://localhost:8080/",
          "height": 316
        },
        "outputId": "09e49581-8a70-43e7-cda0-a7b795a34aad",
        "id": "mBIHf_vmBcRr"
      },
      "execution_count": null,
      "outputs": [
        {
          "output_type": "execute_result",
          "data": {
            "text/plain": [
              "Text(0.5, 1.0, 'Distribution of Fraud Labels')"
            ]
          },
          "metadata": {},
          "execution_count": 132
        },
        {
          "output_type": "display_data",
          "data": {
            "text/plain": [
              "<Figure size 504x288 with 1 Axes>"
            ],
            "image/png": "[encoded data removed]"
          },
          "metadata": {
            "needs_background": "light"
          }
        }
      ]
    },
    {
      "cell_type": "code",
      "source": [
        "# Visualizing time series/frequency of the amount of good application and bad application\n",
        "# Numbers are normalized \n",
        "# good plotted in green and bad plotted in red\n",
        "# y represents normalized count / relative daily frequency of applications for 'goods' and 'bads'\n",
        "ngoods = len(goods)\n",
        "nbads = len(bads)\n",
        "\n",
        "# Plotting bad series \n",
        "bads_series = bads.assign(trx = np.ones(nbads)).set_index(bads['date']).resample(dt.timedelta(days = 1)).count().trx\n",
        "norm_bads_series = bads_series / nbads\n",
        "norm_bads_series.plot(color = 'tomato', alpha = 0.6, label = 'Flagged')\n",
        "\n",
        "# Plotting good series\n",
        "goods_series = goods.assign(trx = np.ones(ngoods)).set_index(goods['date']).resample(dt.timedelta(days = 1)).count().trx\n",
        "norm_goods_series = goods_series / ngoods\n",
        "norm_goods_series.plot(figsize = (15,6),\n",
        "                       title = 'Daily Applications',\n",
        "                       ylabel = 'Frequency (Normalized)',\n",
        "                       xlabel = 'Months',\n",
        "                       color = 'darkseagreen',\n",
        "                       label = 'Not Flagged')\n",
        "\n",
        "# Sum of graph\n",
        "plt.title(\"Daily Frequency of Flagged and Not Flagged Applications\", fontsize = 20, fontweight = 'bold')\n",
        "plt.legend(loc = 'best', fontsize = 10)\n",
        "plt.show()"
      ],
      "metadata": {
        "colab": {
          "base_uri": "https://localhost:8080/",
          "height": 421
        },
        "outputId": "aec1fe0f-76de-4ac7-9314-f211227dcafd",
        "id": "NotejZE8BcRq"
      },
      "execution_count": null,
      "outputs": [
        {
          "output_type": "display_data",
          "data": {
            "text/plain": [
              "<Figure size 1080x432 with 1 Axes>"
            ],
            "image/png": "[encoded data removed]"
          },
          "metadata": {
            "needs_background": "light"
          }
        }
      ]
    },
    {
      "cell_type": "markdown",
      "source": [
        "***End of Hw 2 submitted by Joyce Xinyi Jiang, for DSO 562 Fraud Analytics - USC M.S. Business Analytics***"
      ],
      "metadata": {
        "id": "qoiZuucO4tZn"
      }
    }
  ]
}