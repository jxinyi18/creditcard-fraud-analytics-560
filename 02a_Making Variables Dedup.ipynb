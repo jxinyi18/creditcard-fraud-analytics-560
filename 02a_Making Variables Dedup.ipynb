{
 "cells": [
  {
   "cell_type": "code",
   "execution_count": 1,
   "id": "fbb67d9d",
   "metadata": {},
   "outputs": [],
   "source": [
    "import pandas as pd \n",
    "import numpy as np\n",
    "import datetime as dt\n",
    "import time\n",
    "start_time = dt.datetime.now()\n",
    "%matplotlib inline"
   ]
  },
  {
   "cell_type": "code",
   "execution_count": 2,
   "id": "8d923885",
   "metadata": {},
   "outputs": [
    {
     "name": "stdout",
     "output_type": "stream",
     "text": [
      "CPU times: user 6min 1s, sys: 4min 48s, total: 10min 50s\n",
      "Wall time: 18min 37s\n"
     ]
    },
    {
     "data": {
      "text/plain": [
       "(1000000, 4052)"
      ]
     },
     "execution_count": 2,
     "metadata": {},
     "output_type": "execute_result"
    }
   ],
   "source": [
    "%%time\n",
    "vars = pd.read_csv('merged_dataset.csv')\n",
    "vars.shape"
   ]
  },
  {
   "cell_type": "code",
   "execution_count": 3,
   "id": "e8e89848",
   "metadata": {},
   "outputs": [
    {
     "name": "stdout",
     "output_type": "stream",
     "text": [
      "(1000000, 4052)\n",
      "CPU times: user 34min 59s, sys: 6min 20s, total: 41min 20s\n",
      "Wall time: 49min 7s\n"
     ]
    },
    {
     "data": {
      "text/plain": [
       "(1000000, 2242)"
      ]
     },
     "execution_count": 3,
     "metadata": {},
     "output_type": "execute_result"
    }
   ],
   "source": [
    "%%time\n",
    "print(vars.shape)\n",
    "vars = vars.T.drop_duplicates().T\n",
    "vars.shape"
   ]
  },
  {
   "cell_type": "code",
   "execution_count": 4,
   "id": "0f620b1c",
   "metadata": {},
   "outputs": [
    {
     "name": "stdout",
     "output_type": "stream",
     "text": [
      "CPU times: user 16min 22s, sys: 47.6 s, total: 17min 10s\n",
      "Wall time: 17min 15s\n"
     ]
    }
   ],
   "source": [
    "%%time\n",
    "vars.to_csv('vars-updated.csv',index=False)"
   ]
  },
  {
   "cell_type": "code",
   "execution_count": 5,
   "id": "dcd91368",
   "metadata": {},
   "outputs": [
    {
     "name": "stdout",
     "output_type": "stream",
     "text": [
      "duration:  1:43:36.839039\n"
     ]
    }
   ],
   "source": [
    "print('duration: ',dt.datetime.now() - start_time)"
   ]
  },
  {
   "cell_type": "code",
   "execution_count": 6,
   "id": "4d80cdf8",
   "metadata": {},
   "outputs": [
    {
     "data": {
      "text/html": [
       "<div>\n",
       "<style scoped>\n",
       "    .dataframe tbody tr th:only-of-type {\n",
       "        vertical-align: middle;\n",
       "    }\n",
       "\n",
       "    .dataframe tbody tr th {\n",
       "        vertical-align: top;\n",
       "    }\n",
       "\n",
       "    .dataframe thead th {\n",
       "        text-align: right;\n",
       "    }\n",
       "</style>\n",
       "<table border=\"1\" class=\"dataframe\">\n",
       "  <thead>\n",
       "    <tr style=\"text-align: right;\">\n",
       "      <th></th>\n",
       "      <th>record</th>\n",
       "      <th>fraud_label</th>\n",
       "      <th>age_when_apply</th>\n",
       "      <th>dow_risk</th>\n",
       "      <th>ssn_day_since</th>\n",
       "      <th>ssn_count_0</th>\n",
       "      <th>ssn_count_1</th>\n",
       "      <th>ssn_count_3</th>\n",
       "      <th>ssn_count_7</th>\n",
       "      <th>ssn_count_14</th>\n",
       "      <th>...</th>\n",
       "      <th>min_age_by_ssn_zip5</th>\n",
       "      <th>max_age_by_ssn_homephone</th>\n",
       "      <th>mean_age_by_ssn_homephone</th>\n",
       "      <th>min_age_by_ssn_homephone</th>\n",
       "      <th>max_age_by_ssn_name</th>\n",
       "      <th>mean_age_by_ssn_name</th>\n",
       "      <th>min_age_by_ssn_name</th>\n",
       "      <th>max_age_by_ssn_fulladdress</th>\n",
       "      <th>mean_age_by_ssn_fulladdress</th>\n",
       "      <th>min_age_by_ssn_fulladdress</th>\n",
       "    </tr>\n",
       "  </thead>\n",
       "  <tbody>\n",
       "    <tr>\n",
       "      <th>0</th>\n",
       "      <td>1.0</td>\n",
       "      <td>0.0</td>\n",
       "      <td>110.0</td>\n",
       "      <td>0.015413</td>\n",
       "      <td>365.0</td>\n",
       "      <td>1.0</td>\n",
       "      <td>1.0</td>\n",
       "      <td>1.0</td>\n",
       "      <td>1.0</td>\n",
       "      <td>1.0</td>\n",
       "      <td>...</td>\n",
       "      <td>110.0</td>\n",
       "      <td>110.0</td>\n",
       "      <td>110.0</td>\n",
       "      <td>110.0</td>\n",
       "      <td>110.0</td>\n",
       "      <td>110.0</td>\n",
       "      <td>110.0</td>\n",
       "      <td>110.0</td>\n",
       "      <td>110.0</td>\n",
       "      <td>110.0</td>\n",
       "    </tr>\n",
       "    <tr>\n",
       "      <th>1</th>\n",
       "      <td>2.0</td>\n",
       "      <td>1.0</td>\n",
       "      <td>83.0</td>\n",
       "      <td>0.015413</td>\n",
       "      <td>365.0</td>\n",
       "      <td>1.0</td>\n",
       "      <td>1.0</td>\n",
       "      <td>1.0</td>\n",
       "      <td>1.0</td>\n",
       "      <td>1.0</td>\n",
       "      <td>...</td>\n",
       "      <td>83.0</td>\n",
       "      <td>83.0</td>\n",
       "      <td>83.0</td>\n",
       "      <td>83.0</td>\n",
       "      <td>83.0</td>\n",
       "      <td>83.0</td>\n",
       "      <td>83.0</td>\n",
       "      <td>83.0</td>\n",
       "      <td>83.0</td>\n",
       "      <td>83.0</td>\n",
       "    </tr>\n",
       "    <tr>\n",
       "      <th>2</th>\n",
       "      <td>3.0</td>\n",
       "      <td>0.0</td>\n",
       "      <td>110.0</td>\n",
       "      <td>0.015413</td>\n",
       "      <td>365.0</td>\n",
       "      <td>1.0</td>\n",
       "      <td>1.0</td>\n",
       "      <td>1.0</td>\n",
       "      <td>1.0</td>\n",
       "      <td>1.0</td>\n",
       "      <td>...</td>\n",
       "      <td>110.0</td>\n",
       "      <td>110.0</td>\n",
       "      <td>110.0</td>\n",
       "      <td>110.0</td>\n",
       "      <td>110.0</td>\n",
       "      <td>110.0</td>\n",
       "      <td>110.0</td>\n",
       "      <td>110.0</td>\n",
       "      <td>110.0</td>\n",
       "      <td>110.0</td>\n",
       "    </tr>\n",
       "    <tr>\n",
       "      <th>3</th>\n",
       "      <td>4.0</td>\n",
       "      <td>0.0</td>\n",
       "      <td>73.0</td>\n",
       "      <td>0.015413</td>\n",
       "      <td>365.0</td>\n",
       "      <td>1.0</td>\n",
       "      <td>1.0</td>\n",
       "      <td>1.0</td>\n",
       "      <td>1.0</td>\n",
       "      <td>1.0</td>\n",
       "      <td>...</td>\n",
       "      <td>73.0</td>\n",
       "      <td>73.0</td>\n",
       "      <td>73.0</td>\n",
       "      <td>73.0</td>\n",
       "      <td>73.0</td>\n",
       "      <td>73.0</td>\n",
       "      <td>73.0</td>\n",
       "      <td>73.0</td>\n",
       "      <td>73.0</td>\n",
       "      <td>73.0</td>\n",
       "    </tr>\n",
       "    <tr>\n",
       "      <th>4</th>\n",
       "      <td>5.0</td>\n",
       "      <td>0.0</td>\n",
       "      <td>19.0</td>\n",
       "      <td>0.015413</td>\n",
       "      <td>365.0</td>\n",
       "      <td>1.0</td>\n",
       "      <td>1.0</td>\n",
       "      <td>1.0</td>\n",
       "      <td>1.0</td>\n",
       "      <td>1.0</td>\n",
       "      <td>...</td>\n",
       "      <td>19.0</td>\n",
       "      <td>19.0</td>\n",
       "      <td>19.0</td>\n",
       "      <td>19.0</td>\n",
       "      <td>19.0</td>\n",
       "      <td>19.0</td>\n",
       "      <td>19.0</td>\n",
       "      <td>19.0</td>\n",
       "      <td>19.0</td>\n",
       "      <td>19.0</td>\n",
       "    </tr>\n",
       "  </tbody>\n",
       "</table>\n",
       "<p>5 rows × 2242 columns</p>\n",
       "</div>"
      ],
      "text/plain": [
       "   record  fraud_label  age_when_apply  dow_risk  ssn_day_since  ssn_count_0  \\\n",
       "0     1.0          0.0           110.0  0.015413          365.0          1.0   \n",
       "1     2.0          1.0            83.0  0.015413          365.0          1.0   \n",
       "2     3.0          0.0           110.0  0.015413          365.0          1.0   \n",
       "3     4.0          0.0            73.0  0.015413          365.0          1.0   \n",
       "4     5.0          0.0            19.0  0.015413          365.0          1.0   \n",
       "\n",
       "   ssn_count_1  ssn_count_3  ssn_count_7  ssn_count_14  ...  \\\n",
       "0          1.0          1.0          1.0           1.0  ...   \n",
       "1          1.0          1.0          1.0           1.0  ...   \n",
       "2          1.0          1.0          1.0           1.0  ...   \n",
       "3          1.0          1.0          1.0           1.0  ...   \n",
       "4          1.0          1.0          1.0           1.0  ...   \n",
       "\n",
       "   min_age_by_ssn_zip5  max_age_by_ssn_homephone  mean_age_by_ssn_homephone  \\\n",
       "0                110.0                     110.0                      110.0   \n",
       "1                 83.0                      83.0                       83.0   \n",
       "2                110.0                     110.0                      110.0   \n",
       "3                 73.0                      73.0                       73.0   \n",
       "4                 19.0                      19.0                       19.0   \n",
       "\n",
       "   min_age_by_ssn_homephone  max_age_by_ssn_name  mean_age_by_ssn_name  \\\n",
       "0                     110.0                110.0                 110.0   \n",
       "1                      83.0                 83.0                  83.0   \n",
       "2                     110.0                110.0                 110.0   \n",
       "3                      73.0                 73.0                  73.0   \n",
       "4                      19.0                 19.0                  19.0   \n",
       "\n",
       "   min_age_by_ssn_name  max_age_by_ssn_fulladdress  \\\n",
       "0                110.0                       110.0   \n",
       "1                 83.0                        83.0   \n",
       "2                110.0                       110.0   \n",
       "3                 73.0                        73.0   \n",
       "4                 19.0                        19.0   \n",
       "\n",
       "   mean_age_by_ssn_fulladdress  min_age_by_ssn_fulladdress  \n",
       "0                        110.0                       110.0  \n",
       "1                         83.0                        83.0  \n",
       "2                        110.0                       110.0  \n",
       "3                         73.0                        73.0  \n",
       "4                         19.0                        19.0  \n",
       "\n",
       "[5 rows x 2242 columns]"
      ]
     },
     "execution_count": 6,
     "metadata": {},
     "output_type": "execute_result"
    }
   ],
   "source": [
    "vars.head()"
   ]
  },
  {
   "cell_type": "code",
   "execution_count": 7,
   "id": "a120843a",
   "metadata": {},
   "outputs": [
    {
     "data": {
      "text/plain": [
       "Index(['record', 'fraud_label', 'age_when_apply', 'dow_risk', 'ssn_day_since',\n",
       "       'ssn_count_0', 'ssn_count_1', 'ssn_count_3', 'ssn_count_7',\n",
       "       'ssn_count_14',\n",
       "       ...\n",
       "       'min_age_by_ssn_zip5', 'max_age_by_ssn_homephone',\n",
       "       'mean_age_by_ssn_homephone', 'min_age_by_ssn_homephone',\n",
       "       'max_age_by_ssn_name', 'mean_age_by_ssn_name', 'min_age_by_ssn_name',\n",
       "       'max_age_by_ssn_fulladdress', 'mean_age_by_ssn_fulladdress',\n",
       "       'min_age_by_ssn_fulladdress'],\n",
       "      dtype='object', length=2242)"
      ]
     },
     "execution_count": 7,
     "metadata": {},
     "output_type": "execute_result"
    }
   ],
   "source": [
    "vars.columns"
   ]
  },
  {
   "cell_type": "code",
   "execution_count": null,
   "id": "892b66d6",
   "metadata": {},
   "outputs": [],
   "source": []
  }
 ],
 "metadata": {
  "kernelspec": {
   "display_name": "Python 3 (ipykernel)",
   "language": "python",
   "name": "python3"
  },
  "language_info": {
   "codemirror_mode": {
    "name": "ipython",
    "version": 3
   },
   "file_extension": ".py",
   "mimetype": "text/x-python",
   "name": "python",
   "nbconvert_exporter": "python",
   "pygments_lexer": "ipython3",
   "version": "3.9.12"
  },
  "toc": {
   "base_numbering": 1,
   "nav_menu": {},
   "number_sections": true,
   "sideBar": true,
   "skip_h1_title": false,
   "title_cell": "Table of Contents",
   "title_sidebar": "Contents",
   "toc_cell": false,
   "toc_position": {},
   "toc_section_display": true,
   "toc_window_display": false
  }
 },
 "nbformat": 4,
 "nbformat_minor": 5
}
